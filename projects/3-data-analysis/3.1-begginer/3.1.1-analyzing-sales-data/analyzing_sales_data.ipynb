{
 "cells": [
  {
   "attachments": {},
   "cell_type": "markdown",
   "metadata": {},
   "source": [
    "# Analyzing sales data"
   ]
  },
  {
   "attachments": {},
   "cell_type": "markdown",
   "metadata": {},
   "source": [
    "## 2) Collecting the data"
   ]
  },
  {
   "cell_type": "code",
   "execution_count": null,
   "metadata": {},
   "outputs": [],
   "source": [
    "#@title 1.1) Read the downloaded csv\n",
    "import pandas as pd\n",
    "\n",
    "sales = pd.read_csv(\"../../../../data/3-sales_data_sample.csv\")"
   ]
  },
  {
   "attachments": {},
   "cell_type": "markdown",
   "metadata": {},
   "source": [
    "## 3) Exploratory analysis"
   ]
  },
  {
   "cell_type": "code",
   "execution_count": null,
   "metadata": {},
   "outputs": [],
   "source": [
    "#@title 3.1) First values\n",
    "sales.head()"
   ]
  },
  {
   "cell_type": "code",
   "execution_count": 91,
   "metadata": {},
   "outputs": [
    {
     "data": {
      "text/html": [
       "<div>\n",
       "<style scoped>\n",
       "    .dataframe tbody tr th:only-of-type {\n",
       "        vertical-align: middle;\n",
       "    }\n",
       "\n",
       "    .dataframe tbody tr th {\n",
       "        vertical-align: top;\n",
       "    }\n",
       "\n",
       "    .dataframe thead th {\n",
       "        text-align: right;\n",
       "    }\n",
       "</style>\n",
       "<table border=\"1\" class=\"dataframe\">\n",
       "  <thead>\n",
       "    <tr style=\"text-align: right;\">\n",
       "      <th></th>\n",
       "      <th>PRODUCTLINE</th>\n",
       "      <th>MSRP</th>\n",
       "      <th>PRODUCTCODE</th>\n",
       "    </tr>\n",
       "  </thead>\n",
       "  <tbody>\n",
       "    <tr>\n",
       "      <th>0</th>\n",
       "      <td>Motorcycles</td>\n",
       "      <td>95</td>\n",
       "      <td>S10_1678</td>\n",
       "    </tr>\n",
       "    <tr>\n",
       "      <th>1</th>\n",
       "      <td>Motorcycles</td>\n",
       "      <td>95</td>\n",
       "      <td>S10_1678</td>\n",
       "    </tr>\n",
       "    <tr>\n",
       "      <th>2</th>\n",
       "      <td>Motorcycles</td>\n",
       "      <td>95</td>\n",
       "      <td>S10_1678</td>\n",
       "    </tr>\n",
       "    <tr>\n",
       "      <th>3</th>\n",
       "      <td>Motorcycles</td>\n",
       "      <td>95</td>\n",
       "      <td>S10_1678</td>\n",
       "    </tr>\n",
       "    <tr>\n",
       "      <th>4</th>\n",
       "      <td>Motorcycles</td>\n",
       "      <td>95</td>\n",
       "      <td>S10_1678</td>\n",
       "    </tr>\n",
       "    <tr>\n",
       "      <th>...</th>\n",
       "      <td>...</td>\n",
       "      <td>...</td>\n",
       "      <td>...</td>\n",
       "    </tr>\n",
       "    <tr>\n",
       "      <th>2452</th>\n",
       "      <td>Motorcycles</td>\n",
       "      <td>81</td>\n",
       "      <td>S50_4713</td>\n",
       "    </tr>\n",
       "    <tr>\n",
       "      <th>2453</th>\n",
       "      <td>Motorcycles</td>\n",
       "      <td>81</td>\n",
       "      <td>S50_4713</td>\n",
       "    </tr>\n",
       "    <tr>\n",
       "      <th>2454</th>\n",
       "      <td>Motorcycles</td>\n",
       "      <td>81</td>\n",
       "      <td>S50_4713</td>\n",
       "    </tr>\n",
       "    <tr>\n",
       "      <th>2455</th>\n",
       "      <td>Motorcycles</td>\n",
       "      <td>81</td>\n",
       "      <td>S50_4713</td>\n",
       "    </tr>\n",
       "    <tr>\n",
       "      <th>2456</th>\n",
       "      <td>Motorcycles</td>\n",
       "      <td>81</td>\n",
       "      <td>S50_4713</td>\n",
       "    </tr>\n",
       "  </tbody>\n",
       "</table>\n",
       "<p>331 rows × 3 columns</p>\n",
       "</div>"
      ],
      "text/plain": [
       "      PRODUCTLINE  MSRP PRODUCTCODE\n",
       "0     Motorcycles    95    S10_1678\n",
       "1     Motorcycles    95    S10_1678\n",
       "2     Motorcycles    95    S10_1678\n",
       "3     Motorcycles    95    S10_1678\n",
       "4     Motorcycles    95    S10_1678\n",
       "...           ...   ...         ...\n",
       "2452  Motorcycles    81    S50_4713\n",
       "2453  Motorcycles    81    S50_4713\n",
       "2454  Motorcycles    81    S50_4713\n",
       "2455  Motorcycles    81    S50_4713\n",
       "2456  Motorcycles    81    S50_4713\n",
       "\n",
       "[331 rows x 3 columns]"
      ]
     },
     "execution_count": 91,
     "metadata": {},
     "output_type": "execute_result"
    }
   ],
   "source": [
    "#@title 3.2) Last values\n",
    "sales.tail()\n",
    "\n",
    "sales[sales['PRODUCTLINE'] == \"Motorcycles\"][[ 'PRODUCTLINE', 'MSRP', 'PRODUCTCODE']]"
   ]
  },
  {
   "cell_type": "code",
   "execution_count": null,
   "metadata": {},
   "outputs": [],
   "source": [
    "#@title 3.3) Number of rows and columns\n",
    "sales.shape"
   ]
  },
  {
   "cell_type": "code",
   "execution_count": 82,
   "metadata": {},
   "outputs": [
    {
     "data": {
      "text/plain": [
       "Index(['ORDERNUMBER', 'QUANTITYORDERED', 'PRICEEACH', 'ORDERLINENUMBER',\n",
       "       'SALES', 'ORDERDATE', 'STATUS', 'QTR_ID', 'MONTH_ID', 'YEAR_ID',\n",
       "       'PRODUCTLINE', 'MSRP', 'PRODUCTCODE', 'CUSTOMERNAME', 'PHONE',\n",
       "       'ADDRESSLINE1', 'ADDRESSLINE2', 'CITY', 'STATE', 'POSTALCODE',\n",
       "       'COUNTRY', 'TERRITORY', 'CONTACTLASTNAME', 'CONTACTFIRSTNAME',\n",
       "       'DEALSIZE'],\n",
       "      dtype='object')"
      ]
     },
     "execution_count": 82,
     "metadata": {},
     "output_type": "execute_result"
    }
   ],
   "source": [
    "#@title 3.4) Columns\n",
    "sales.columns"
   ]
  },
  {
   "cell_type": "code",
   "execution_count": 86,
   "metadata": {},
   "outputs": [
    {
     "data": {
      "text/plain": [
       "ORDERNUMBER           Int64\n",
       "QUANTITYORDERED       Int64\n",
       "PRICEEACH           Float64\n",
       "ORDERLINENUMBER       Int64\n",
       "SALES               Float64\n",
       "ORDERDATE            string\n",
       "STATUS               string\n",
       "QTR_ID                Int64\n",
       "MONTH_ID              Int64\n",
       "YEAR_ID               Int64\n",
       "PRODUCTLINE          string\n",
       "MSRP                  Int64\n",
       "PRODUCTCODE          string\n",
       "CUSTOMERNAME         string\n",
       "PHONE                string\n",
       "ADDRESSLINE1         string\n",
       "ADDRESSLINE2         string\n",
       "CITY                 string\n",
       "STATE                string\n",
       "POSTALCODE           string\n",
       "COUNTRY              string\n",
       "TERRITORY            string\n",
       "CONTACTLASTNAME      string\n",
       "CONTACTFIRSTNAME     string\n",
       "DEALSIZE             string\n",
       "dtype: object"
      ]
     },
     "execution_count": 86,
     "metadata": {},
     "output_type": "execute_result"
    }
   ],
   "source": [
    "#@title 3.5.1) Columns types\n",
    "sales.dtypes"
   ]
  },
  {
   "cell_type": "code",
   "execution_count": null,
   "metadata": {},
   "outputs": [],
   "source": [
    "#@title 3.5.2) Convert columns to appropriate types\n",
    "sales = sales.convert_dtypes()"
   ]
  },
  {
   "cell_type": "code",
   "execution_count": null,
   "metadata": {},
   "outputs": [],
   "source": [
    "#@title 3.6) Columns types and not null values\n",
    "sales.info()"
   ]
  },
  {
   "cell_type": "code",
   "execution_count": null,
   "metadata": {},
   "outputs": [],
   "source": [
    "#@title 3.7) Statistical summary for numerical columns\n",
    "sales.describe()"
   ]
  },
  {
   "cell_type": "code",
   "execution_count": null,
   "metadata": {},
   "outputs": [],
   "source": [
    "#@title 3.8) Number of null values on each column\n",
    "sales.isnull().sum()"
   ]
  },
  {
   "cell_type": "code",
   "execution_count": null,
   "metadata": {},
   "outputs": [],
   "source": [
    "#@title 3.9) Number of unique values on each column \n",
    "sales.nunique()"
   ]
  },
  {
   "cell_type": "code",
   "execution_count": null,
   "metadata": {},
   "outputs": [],
   "source": [
    "#@title 3.10) Memory used for each column\n",
    "sales.memory_usage()"
   ]
  },
  {
   "attachments": {},
   "cell_type": "markdown",
   "metadata": {},
   "source": [
    "## 4) Analysing data"
   ]
  },
  {
   "cell_type": "code",
   "execution_count": 79,
   "metadata": {},
   "outputs": [
    {
     "name": "stdout",
     "output_type": "stream",
     "text": [
      "Number of orders: 307\n",
      "Total sales: 10032628.85\n",
      "Avarege order sales: 32679.57\n"
     ]
    }
   ],
   "source": [
    "# Group sales for each order number\n",
    "order_sales = sales.groupby(by=\"ORDERNUMBER\")[\"SALES\"].sum()\n",
    "\n",
    "#@title 4.1) Number of orders\n",
    "print(f\"Number of orders: {len(order_sales)}\")\n",
    "#@title 4.2) Total sales\n",
    "print(f\"Total sales: {round(order_sales.sum(), 2)}\")\n",
    "#@title 4.3) Average sales\n",
    "print(f\"Avarege order sales: {round(order_sales.mean(), 2)}\")\n"
   ]
  },
  {
   "cell_type": "code",
   "execution_count": 95,
   "metadata": {},
   "outputs": [
    {
     "data": {
      "text/plain": [
       "PRODUCTLINE\n",
       "Classic Cars        3919615.66\n",
       "Vintage Cars        1903150.84\n",
       "Motorcycles         1166388.34\n",
       "Trucks and Buses    1127789.84\n",
       "Planes               975003.57\n",
       "Ships                714437.13\n",
       "Trains               226243.47\n",
       "Name: SALES, dtype: Float64"
      ]
     },
     "execution_count": 95,
     "metadata": {},
     "output_type": "execute_result"
    }
   ],
   "source": [
    "# Group sales by product line\n",
    "product_lines = sales.groupby(by=\"PRODUCTLINE\")\n",
    "\n",
    "#@title 4.4) Best selling product lines\n",
    "product_lines[\"SALES\"].sum().sort_values(ascending=False)"
   ]
  },
  {
   "cell_type": "code",
   "execution_count": 118,
   "metadata": {},
   "outputs": [
    {
     "name": "stdout",
     "output_type": "stream",
     "text": [
      "Total 5 months sales: 10032628.85\n",
      "Average 5 months sales: 345952.72\n",
      "\n",
      "Sales of last 5 months: \n"
     ]
    },
    {
     "data": {
      "text/plain": [
       "2005/1    339543.42\n",
       "2005/2    358186.18\n",
       "2005/3    374262.76\n",
       "2005/4    261633.29\n",
       "2005/5    457861.06\n",
       "Name: SALES, dtype: Float64"
      ]
     },
     "execution_count": 118,
     "metadata": {},
     "output_type": "execute_result"
    }
   ],
   "source": [
    "#@title 4.5) Sales of last 5 months\n",
    "sales_month = sales.groupby(by=[\"YEAR_ID\", \"MONTH_ID\"])[\"SALES\"].sum()\n",
    "sales_month.index = sales_month.index.map(lambda index: f\"{index[0]}/{index[1]}\")\n",
    "\n",
    "print(f\"Total 5 months sales: {round(sales_month.sum(), 2)}\")\n",
    "print(f\"Average 5 months sales: {round(sales_month.mean(), 2)}\")\n",
    "\n",
    "print(\"\\nSales of last 5 months: \")\n",
    "sales_month.tail()"
   ]
  },
  {
   "cell_type": "code",
   "execution_count": 133,
   "metadata": {},
   "outputs": [
    {
     "ename": "TypeError",
     "evalue": "'Text' object is not callable",
     "output_type": "error",
     "traceback": [
      "\u001b[1;31m---------------------------------------------------------------------------\u001b[0m",
      "\u001b[1;31mTypeError\u001b[0m                                 Traceback (most recent call last)",
      "Cell \u001b[1;32mIn[133], line 14\u001b[0m\n\u001b[0;32m     11\u001b[0m     ax\u001b[39m.\u001b[39mtext(i, v\u001b[39m+\u001b[39m\u001b[39m5\u001b[39m, \u001b[39mstr\u001b[39m(v), ha\u001b[39m=\u001b[39m\u001b[39m'\u001b[39m\u001b[39mcenter\u001b[39m\u001b[39m'\u001b[39m)\n\u001b[0;32m     13\u001b[0m \u001b[39m# Set chart title and labels\u001b[39;00m\n\u001b[1;32m---> 14\u001b[0m ax\u001b[39m.\u001b[39;49mtitle(\u001b[39m\"\u001b[39;49m\u001b[39mSales of last 5 months\u001b[39;49m\u001b[39m\"\u001b[39;49m)\n\u001b[0;32m     15\u001b[0m ax\u001b[39m.\u001b[39mxlabel(\u001b[39m\"\u001b[39m\u001b[39mMonths\u001b[39m\u001b[39m\"\u001b[39m)\n\u001b[0;32m     16\u001b[0m ax\u001b[39m.\u001b[39mylabel(\u001b[39m\"\u001b[39m\u001b[39mSales (In thousands)\u001b[39m\u001b[39m\"\u001b[39m)\n",
      "\u001b[1;31mTypeError\u001b[0m: 'Text' object is not callable"
     ]
    },
    {
     "ename": "ValueError",
     "evalue": "Image size of 552x352058 pixels is too large. It must be less than 2^16 in each direction.",
     "output_type": "error",
     "traceback": [
      "\u001b[1;31m---------------------------------------------------------------------------\u001b[0m",
      "\u001b[1;31mValueError\u001b[0m                                Traceback (most recent call last)",
      "File \u001b[1;32mc:\\Users\\pedro\\.pyenv\\pyenv-win\\versions\\3.11.1\\Lib\\site-packages\\IPython\\core\\formatters.py:338\u001b[0m, in \u001b[0;36mBaseFormatter.__call__\u001b[1;34m(self, obj)\u001b[0m\n\u001b[0;32m    336\u001b[0m     \u001b[39mpass\u001b[39;00m\n\u001b[0;32m    337\u001b[0m \u001b[39melse\u001b[39;00m:\n\u001b[1;32m--> 338\u001b[0m     \u001b[39mreturn\u001b[39;00m printer(obj)\n\u001b[0;32m    339\u001b[0m \u001b[39m# Finally look for special method names\u001b[39;00m\n\u001b[0;32m    340\u001b[0m method \u001b[39m=\u001b[39m get_real_method(obj, \u001b[39mself\u001b[39m\u001b[39m.\u001b[39mprint_method)\n",
      "File \u001b[1;32mc:\\Users\\pedro\\.pyenv\\pyenv-win\\versions\\3.11.1\\Lib\\site-packages\\IPython\\core\\pylabtools.py:152\u001b[0m, in \u001b[0;36mprint_figure\u001b[1;34m(fig, fmt, bbox_inches, base64, **kwargs)\u001b[0m\n\u001b[0;32m    149\u001b[0m     \u001b[39mfrom\u001b[39;00m \u001b[39mmatplotlib\u001b[39;00m\u001b[39m.\u001b[39;00m\u001b[39mbackend_bases\u001b[39;00m \u001b[39mimport\u001b[39;00m FigureCanvasBase\n\u001b[0;32m    150\u001b[0m     FigureCanvasBase(fig)\n\u001b[1;32m--> 152\u001b[0m fig\u001b[39m.\u001b[39;49mcanvas\u001b[39m.\u001b[39;49mprint_figure(bytes_io, \u001b[39m*\u001b[39;49m\u001b[39m*\u001b[39;49mkw)\n\u001b[0;32m    153\u001b[0m data \u001b[39m=\u001b[39m bytes_io\u001b[39m.\u001b[39mgetvalue()\n\u001b[0;32m    154\u001b[0m \u001b[39mif\u001b[39;00m fmt \u001b[39m==\u001b[39m \u001b[39m'\u001b[39m\u001b[39msvg\u001b[39m\u001b[39m'\u001b[39m:\n",
      "File \u001b[1;32mc:\\Users\\pedro\\.pyenv\\pyenv-win\\versions\\3.11.1\\Lib\\site-packages\\matplotlib\\backend_bases.py:2366\u001b[0m, in \u001b[0;36mFigureCanvasBase.print_figure\u001b[1;34m(self, filename, dpi, facecolor, edgecolor, orientation, format, bbox_inches, pad_inches, bbox_extra_artists, backend, **kwargs)\u001b[0m\n\u001b[0;32m   2362\u001b[0m \u001b[39mtry\u001b[39;00m:\n\u001b[0;32m   2363\u001b[0m     \u001b[39m# _get_renderer may change the figure dpi (as vector formats\u001b[39;00m\n\u001b[0;32m   2364\u001b[0m     \u001b[39m# force the figure dpi to 72), so we need to set it again here.\u001b[39;00m\n\u001b[0;32m   2365\u001b[0m     \u001b[39mwith\u001b[39;00m cbook\u001b[39m.\u001b[39m_setattr_cm(\u001b[39mself\u001b[39m\u001b[39m.\u001b[39mfigure, dpi\u001b[39m=\u001b[39mdpi):\n\u001b[1;32m-> 2366\u001b[0m         result \u001b[39m=\u001b[39m print_method(\n\u001b[0;32m   2367\u001b[0m             filename,\n\u001b[0;32m   2368\u001b[0m             facecolor\u001b[39m=\u001b[39;49mfacecolor,\n\u001b[0;32m   2369\u001b[0m             edgecolor\u001b[39m=\u001b[39;49medgecolor,\n\u001b[0;32m   2370\u001b[0m             orientation\u001b[39m=\u001b[39;49morientation,\n\u001b[0;32m   2371\u001b[0m             bbox_inches_restore\u001b[39m=\u001b[39;49m_bbox_inches_restore,\n\u001b[0;32m   2372\u001b[0m             \u001b[39m*\u001b[39;49m\u001b[39m*\u001b[39;49mkwargs)\n\u001b[0;32m   2373\u001b[0m \u001b[39mfinally\u001b[39;00m:\n\u001b[0;32m   2374\u001b[0m     \u001b[39mif\u001b[39;00m bbox_inches \u001b[39mand\u001b[39;00m restore_bbox:\n",
      "File \u001b[1;32mc:\\Users\\pedro\\.pyenv\\pyenv-win\\versions\\3.11.1\\Lib\\site-packages\\matplotlib\\backend_bases.py:2232\u001b[0m, in \u001b[0;36mFigureCanvasBase._switch_canvas_and_return_print_method.<locals>.<lambda>\u001b[1;34m(*args, **kwargs)\u001b[0m\n\u001b[0;32m   2228\u001b[0m     optional_kws \u001b[39m=\u001b[39m {  \u001b[39m# Passed by print_figure for other renderers.\u001b[39;00m\n\u001b[0;32m   2229\u001b[0m         \u001b[39m\"\u001b[39m\u001b[39mdpi\u001b[39m\u001b[39m\"\u001b[39m, \u001b[39m\"\u001b[39m\u001b[39mfacecolor\u001b[39m\u001b[39m\"\u001b[39m, \u001b[39m\"\u001b[39m\u001b[39medgecolor\u001b[39m\u001b[39m\"\u001b[39m, \u001b[39m\"\u001b[39m\u001b[39morientation\u001b[39m\u001b[39m\"\u001b[39m,\n\u001b[0;32m   2230\u001b[0m         \u001b[39m\"\u001b[39m\u001b[39mbbox_inches_restore\u001b[39m\u001b[39m\"\u001b[39m}\n\u001b[0;32m   2231\u001b[0m     skip \u001b[39m=\u001b[39m optional_kws \u001b[39m-\u001b[39m {\u001b[39m*\u001b[39minspect\u001b[39m.\u001b[39msignature(meth)\u001b[39m.\u001b[39mparameters}\n\u001b[1;32m-> 2232\u001b[0m     print_method \u001b[39m=\u001b[39m functools\u001b[39m.\u001b[39mwraps(meth)(\u001b[39mlambda\u001b[39;00m \u001b[39m*\u001b[39margs, \u001b[39m*\u001b[39m\u001b[39m*\u001b[39mkwargs: meth(\n\u001b[0;32m   2233\u001b[0m         \u001b[39m*\u001b[39;49margs, \u001b[39m*\u001b[39;49m\u001b[39m*\u001b[39;49m{k: v \u001b[39mfor\u001b[39;49;00m k, v \u001b[39min\u001b[39;49;00m kwargs\u001b[39m.\u001b[39;49mitems() \u001b[39mif\u001b[39;49;00m k \u001b[39mnot\u001b[39;49;00m \u001b[39min\u001b[39;49;00m skip}))\n\u001b[0;32m   2234\u001b[0m \u001b[39melse\u001b[39;00m:  \u001b[39m# Let third-parties do as they see fit.\u001b[39;00m\n\u001b[0;32m   2235\u001b[0m     print_method \u001b[39m=\u001b[39m meth\n",
      "File \u001b[1;32mc:\\Users\\pedro\\.pyenv\\pyenv-win\\versions\\3.11.1\\Lib\\site-packages\\matplotlib\\backends\\backend_agg.py:509\u001b[0m, in \u001b[0;36mFigureCanvasAgg.print_png\u001b[1;34m(self, filename_or_obj, metadata, pil_kwargs)\u001b[0m\n\u001b[0;32m    462\u001b[0m \u001b[39mdef\u001b[39;00m \u001b[39mprint_png\u001b[39m(\u001b[39mself\u001b[39m, filename_or_obj, \u001b[39m*\u001b[39m, metadata\u001b[39m=\u001b[39m\u001b[39mNone\u001b[39;00m, pil_kwargs\u001b[39m=\u001b[39m\u001b[39mNone\u001b[39;00m):\n\u001b[0;32m    463\u001b[0m \u001b[39m    \u001b[39m\u001b[39m\"\"\"\u001b[39;00m\n\u001b[0;32m    464\u001b[0m \u001b[39m    Write the figure to a PNG file.\u001b[39;00m\n\u001b[0;32m    465\u001b[0m \n\u001b[1;32m   (...)\u001b[0m\n\u001b[0;32m    507\u001b[0m \u001b[39m        *metadata*, including the default 'Software' key.\u001b[39;00m\n\u001b[0;32m    508\u001b[0m \u001b[39m    \"\"\"\u001b[39;00m\n\u001b[1;32m--> 509\u001b[0m     \u001b[39mself\u001b[39;49m\u001b[39m.\u001b[39;49m_print_pil(filename_or_obj, \u001b[39m\"\u001b[39;49m\u001b[39mpng\u001b[39;49m\u001b[39m\"\u001b[39;49m, pil_kwargs, metadata)\n",
      "File \u001b[1;32mc:\\Users\\pedro\\.pyenv\\pyenv-win\\versions\\3.11.1\\Lib\\site-packages\\matplotlib\\backends\\backend_agg.py:457\u001b[0m, in \u001b[0;36mFigureCanvasAgg._print_pil\u001b[1;34m(self, filename_or_obj, fmt, pil_kwargs, metadata)\u001b[0m\n\u001b[0;32m    452\u001b[0m \u001b[39mdef\u001b[39;00m \u001b[39m_print_pil\u001b[39m(\u001b[39mself\u001b[39m, filename_or_obj, fmt, pil_kwargs, metadata\u001b[39m=\u001b[39m\u001b[39mNone\u001b[39;00m):\n\u001b[0;32m    453\u001b[0m \u001b[39m    \u001b[39m\u001b[39m\"\"\"\u001b[39;00m\n\u001b[0;32m    454\u001b[0m \u001b[39m    Draw the canvas, then save it using `.image.imsave` (to which\u001b[39;00m\n\u001b[0;32m    455\u001b[0m \u001b[39m    *pil_kwargs* and *metadata* are forwarded).\u001b[39;00m\n\u001b[0;32m    456\u001b[0m \u001b[39m    \"\"\"\u001b[39;00m\n\u001b[1;32m--> 457\u001b[0m     FigureCanvasAgg\u001b[39m.\u001b[39;49mdraw(\u001b[39mself\u001b[39;49m)\n\u001b[0;32m    458\u001b[0m     mpl\u001b[39m.\u001b[39mimage\u001b[39m.\u001b[39mimsave(\n\u001b[0;32m    459\u001b[0m         filename_or_obj, \u001b[39mself\u001b[39m\u001b[39m.\u001b[39mbuffer_rgba(), \u001b[39mformat\u001b[39m\u001b[39m=\u001b[39mfmt, origin\u001b[39m=\u001b[39m\u001b[39m\"\u001b[39m\u001b[39mupper\u001b[39m\u001b[39m\"\u001b[39m,\n\u001b[0;32m    460\u001b[0m         dpi\u001b[39m=\u001b[39m\u001b[39mself\u001b[39m\u001b[39m.\u001b[39mfigure\u001b[39m.\u001b[39mdpi, metadata\u001b[39m=\u001b[39mmetadata, pil_kwargs\u001b[39m=\u001b[39mpil_kwargs)\n",
      "File \u001b[1;32mc:\\Users\\pedro\\.pyenv\\pyenv-win\\versions\\3.11.1\\Lib\\site-packages\\matplotlib\\backends\\backend_agg.py:394\u001b[0m, in \u001b[0;36mFigureCanvasAgg.draw\u001b[1;34m(self)\u001b[0m\n\u001b[0;32m    392\u001b[0m \u001b[39mdef\u001b[39;00m \u001b[39mdraw\u001b[39m(\u001b[39mself\u001b[39m):\n\u001b[0;32m    393\u001b[0m     \u001b[39m# docstring inherited\u001b[39;00m\n\u001b[1;32m--> 394\u001b[0m     \u001b[39mself\u001b[39m\u001b[39m.\u001b[39mrenderer \u001b[39m=\u001b[39m \u001b[39mself\u001b[39;49m\u001b[39m.\u001b[39;49mget_renderer()\n\u001b[0;32m    395\u001b[0m     \u001b[39mself\u001b[39m\u001b[39m.\u001b[39mrenderer\u001b[39m.\u001b[39mclear()\n\u001b[0;32m    396\u001b[0m     \u001b[39m# Acquire a lock on the shared font cache.\u001b[39;00m\n",
      "File \u001b[1;32mc:\\Users\\pedro\\.pyenv\\pyenv-win\\versions\\3.11.1\\Lib\\site-packages\\matplotlib\\_api\\deprecation.py:384\u001b[0m, in \u001b[0;36mdelete_parameter.<locals>.wrapper\u001b[1;34m(*inner_args, **inner_kwargs)\u001b[0m\n\u001b[0;32m    379\u001b[0m \u001b[39m@functools\u001b[39m\u001b[39m.\u001b[39mwraps(func)\n\u001b[0;32m    380\u001b[0m \u001b[39mdef\u001b[39;00m \u001b[39mwrapper\u001b[39m(\u001b[39m*\u001b[39minner_args, \u001b[39m*\u001b[39m\u001b[39m*\u001b[39minner_kwargs):\n\u001b[0;32m    381\u001b[0m     \u001b[39mif\u001b[39;00m \u001b[39mlen\u001b[39m(inner_args) \u001b[39m<\u001b[39m\u001b[39m=\u001b[39m name_idx \u001b[39mand\u001b[39;00m name \u001b[39mnot\u001b[39;00m \u001b[39min\u001b[39;00m inner_kwargs:\n\u001b[0;32m    382\u001b[0m         \u001b[39m# Early return in the simple, non-deprecated case (much faster than\u001b[39;00m\n\u001b[0;32m    383\u001b[0m         \u001b[39m# calling bind()).\u001b[39;00m\n\u001b[1;32m--> 384\u001b[0m         \u001b[39mreturn\u001b[39;00m func(\u001b[39m*\u001b[39;49minner_args, \u001b[39m*\u001b[39;49m\u001b[39m*\u001b[39;49minner_kwargs)\n\u001b[0;32m    385\u001b[0m     arguments \u001b[39m=\u001b[39m signature\u001b[39m.\u001b[39mbind(\u001b[39m*\u001b[39minner_args, \u001b[39m*\u001b[39m\u001b[39m*\u001b[39minner_kwargs)\u001b[39m.\u001b[39marguments\n\u001b[0;32m    386\u001b[0m     \u001b[39mif\u001b[39;00m is_varargs \u001b[39mand\u001b[39;00m arguments\u001b[39m.\u001b[39mget(name):\n",
      "File \u001b[1;32mc:\\Users\\pedro\\.pyenv\\pyenv-win\\versions\\3.11.1\\Lib\\site-packages\\matplotlib\\backends\\backend_agg.py:411\u001b[0m, in \u001b[0;36mFigureCanvasAgg.get_renderer\u001b[1;34m(self, cleared)\u001b[0m\n\u001b[0;32m    409\u001b[0m reuse_renderer \u001b[39m=\u001b[39m (\u001b[39mself\u001b[39m\u001b[39m.\u001b[39m_lastKey \u001b[39m==\u001b[39m key)\n\u001b[0;32m    410\u001b[0m \u001b[39mif\u001b[39;00m \u001b[39mnot\u001b[39;00m reuse_renderer:\n\u001b[1;32m--> 411\u001b[0m     \u001b[39mself\u001b[39m\u001b[39m.\u001b[39mrenderer \u001b[39m=\u001b[39m RendererAgg(w, h, \u001b[39mself\u001b[39;49m\u001b[39m.\u001b[39;49mfigure\u001b[39m.\u001b[39;49mdpi)\n\u001b[0;32m    412\u001b[0m     \u001b[39mself\u001b[39m\u001b[39m.\u001b[39m_lastKey \u001b[39m=\u001b[39m key\n\u001b[0;32m    413\u001b[0m \u001b[39melif\u001b[39;00m cleared:\n",
      "File \u001b[1;32mc:\\Users\\pedro\\.pyenv\\pyenv-win\\versions\\3.11.1\\Lib\\site-packages\\matplotlib\\backends\\backend_agg.py:84\u001b[0m, in \u001b[0;36mRendererAgg.__init__\u001b[1;34m(self, width, height, dpi)\u001b[0m\n\u001b[0;32m     82\u001b[0m \u001b[39mself\u001b[39m\u001b[39m.\u001b[39mwidth \u001b[39m=\u001b[39m width\n\u001b[0;32m     83\u001b[0m \u001b[39mself\u001b[39m\u001b[39m.\u001b[39mheight \u001b[39m=\u001b[39m height\n\u001b[1;32m---> 84\u001b[0m \u001b[39mself\u001b[39m\u001b[39m.\u001b[39m_renderer \u001b[39m=\u001b[39m _RendererAgg(\u001b[39mint\u001b[39;49m(width), \u001b[39mint\u001b[39;49m(height), dpi)\n\u001b[0;32m     85\u001b[0m \u001b[39mself\u001b[39m\u001b[39m.\u001b[39m_filter_renderers \u001b[39m=\u001b[39m []\n\u001b[0;32m     87\u001b[0m \u001b[39mself\u001b[39m\u001b[39m.\u001b[39m_update_methods()\n",
      "\u001b[1;31mValueError\u001b[0m: Image size of 552x352058 pixels is too large. It must be less than 2^16 in each direction."
     ]
    },
    {
     "data": {
      "text/plain": [
       "<Figure size 640x480 with 1 Axes>"
      ]
     },
     "metadata": {},
     "output_type": "display_data"
    }
   ],
   "source": [
    "from matplotlib import pyplot as plt\n",
    "\n",
    "sales_5_months = sales_month.iloc[-5:]\n",
    "\n",
    "# Create a column chart\n",
    "fig, ax = plt.subplots()\n",
    "ax.bar(sales_5_months.index, sales_5_months / 1000)\n",
    "\n",
    "# add labels to bars\n",
    "for i, v in enumerate(sales_5_months):\n",
    "    ax.text(i, v+5, str(v), ha='center')\n",
    "\n",
    "# Set chart title and labels\n",
    "ax.title(\"Sales of last 5 months\")\n",
    "ax.xlabel(\"Months\")\n",
    "ax.ylabel(\"Sales (In thousands)\")\n",
    "\n",
    "# Plot chart\n",
    "plt.plot()"
   ]
  },
  {
   "cell_type": "code",
   "execution_count": null,
   "metadata": {},
   "outputs": [],
   "source": []
  }
 ],
 "metadata": {
  "kernelspec": {
   "display_name": "Python 3",
   "language": "python",
   "name": "python3"
  },
  "language_info": {
   "codemirror_mode": {
    "name": "ipython",
    "version": 3
   },
   "file_extension": ".py",
   "mimetype": "text/x-python",
   "name": "python",
   "nbconvert_exporter": "python",
   "pygments_lexer": "ipython3",
   "version": "3.11.1"
  },
  "orig_nbformat": 4
 },
 "nbformat": 4,
 "nbformat_minor": 2
}
