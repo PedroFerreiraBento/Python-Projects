{
 "cells": [
  {
   "attachments": {},
   "cell_type": "markdown",
   "metadata": {},
   "source": [
    "# Basic Web Scrapper"
   ]
  },
  {
   "cell_type": "code",
   "execution_count": null,
   "metadata": {},
   "outputs": [],
   "source": [
    "project_url = \"https://raw.githubusercontent.com/PedroFerreiraBento/Python-Projects/main/2-web-scraping-projects/2.1-beautiful-soap\""
   ]
  },
  {
   "attachments": {},
   "cell_type": "markdown",
   "metadata": {},
   "source": [
    "## 1 - Simple request\n",
    "Request data from an url and output the HTML file received on response.\n",
    "\n",
    "Note: Here we are requesting the raw data of a HTML file that is present in this project, but the github file is on the Web and that is where we are making the request."
   ]
  },
  {
   "cell_type": "code",
   "execution_count": null,
   "metadata": {},
   "outputs": [],
   "source": [
    "from urllib.request import urlopen\n",
    "\n",
    "html = urlopen(f\"{project_url}/static/example-1.html\")\n",
    "print(html.read())"
   ]
  },
  {
   "attachments": {},
   "cell_type": "markdown",
   "metadata": {},
   "source": [
    "Note: HTML files can have break lines that can disturb the reading of navigation trees"
   ]
  },
  {
   "attachments": {},
   "cell_type": "markdown",
   "metadata": {},
   "source": [
    "## 2 - BeautifulSoup"
   ]
  },
  {
   "attachments": {},
   "cell_type": "markdown",
   "metadata": {},
   "source": [
    "### 2.1 - Installation"
   ]
  },
  {
   "cell_type": "code",
   "execution_count": null,
   "metadata": {},
   "outputs": [],
   "source": [
    "%pip install --upgrade pip\n",
    "%pip install beautifulsoup4"
   ]
  },
  {
   "attachments": {},
   "cell_type": "markdown",
   "metadata": {},
   "source": [
    "### 2.2 - Parse HTML file"
   ]
  },
  {
   "cell_type": "code",
   "execution_count": null,
   "metadata": {},
   "outputs": [],
   "source": [
    "from urllib.request import urlopen\n",
    "from bs4 import BeautifulSoup\n",
    "\n",
    "html = urlopen(f\"{project_url}/static/example-1.html\")\n",
    "bs = BeautifulSoup(html.read(), \"html.parser\")\n",
    "\n",
    "print(f\"First instance of 'p' tag found: {bs.p.string}\")"
   ]
  },
  {
   "attachments": {},
   "cell_type": "markdown",
   "metadata": {},
   "source": [
    "### 2.3 - Trying other parsers\n",
    "\n",
    "You can check the other parsers and them difference here: [**Difference between parsers**](https://www.crummy.com/software/BeautifulSoup/bs4/doc/#differences-between-parsers)\n",
    "\n",
    "Some parser will need to be installed."
   ]
  },
  {
   "cell_type": "code",
   "execution_count": null,
   "metadata": {},
   "outputs": [],
   "source": [
    "%pip install lxml\n",
    "%pip install html5lib"
   ]
  },
  {
   "cell_type": "code",
   "execution_count": null,
   "metadata": {},
   "outputs": [],
   "source": [
    "from bs4 import BeautifulSoup\n",
    "\n",
    "html_parser = BeautifulSoup(\"<a></b></a>\", \"html.parser\")\n",
    "lxml = BeautifulSoup(\"<a></b></a>\", \"lxml\")\n",
    "html_lib = BeautifulSoup(\"<a></b></a>\", \"html5lib\")\n",
    "\n",
    "print(f\"'html.parser' parser: {html_parser}\")\n",
    "print(f\"'lxml' parser: {lxml}\")\n",
    "print(f\"'html5lib' parser: {html_lib}\")"
   ]
  },
  {
   "attachments": {},
   "cell_type": "markdown",
   "metadata": {},
   "source": [
    "### 2.4 - Handling exceptions\n",
    "\n",
    "Two main things can go wrong in the request:\n",
    "- The page is not found on the server (or there was an error in retrieving it).\n",
    "- The server is not found."
   ]
  },
  {
   "attachments": {},
   "cell_type": "markdown",
   "metadata": {},
   "source": [
    "#### 2.4.1 - Page not found\n",
    "\n",
    "Raises HTTPError"
   ]
  },
  {
   "cell_type": "code",
   "execution_count": null,
   "metadata": {},
   "outputs": [],
   "source": [
    "from urllib.request import urlopen\n",
    "from urllib.error import HTTPError\n",
    "\n",
    "try:\n",
    "    html = urlopen('http://www.pythonscraping.com/pages/page1.html')\n",
    "except HTTPError as e:\n",
    "    print(e)"
   ]
  },
  {
   "attachments": {},
   "cell_type": "markdown",
   "metadata": {},
   "source": [
    "#### 2.4.2 - Server not found\n",
    "\n",
    "Raises URLError"
   ]
  },
  {
   "cell_type": "code",
   "execution_count": null,
   "metadata": {},
   "outputs": [],
   "source": [
    "from urllib.request import urlopen\n",
    "from urllib.error import HTTPError\n",
    "from urllib.error import URLError\n",
    "\n",
    "try:\n",
    "    html = urlopen('https://pythonscrapingthisurldoesnotexist.com')\n",
    "except HTTPError as e:\n",
    "    print(e)\n",
    "except URLError as e:\n",
    "    print('The server could not be found!')\n",
    "else:\n",
    "    print('It Worked!')\n"
   ]
  },
  {
   "attachments": {},
   "cell_type": "markdown",
   "metadata": {},
   "source": [
    "#### 2.4.3 - Tag not found\n",
    "\n",
    "If you try to access a tag that does not exist in the file the BeautifulSoup will return None. But if you try to access an element inside a non-existing tag it will raise an AttributeError"
   ]
  },
  {
   "cell_type": "code",
   "execution_count": null,
   "metadata": {},
   "outputs": [],
   "source": [
    "from urllib.request import urlopen\n",
    "from bs4 import BeautifulSoup\n",
    "\n",
    "html = urlopen(f\"{project_url}/static/example-1.html\")\n",
    "bs = BeautifulSoup(html.read(), \"html.parser\")\n",
    "\n",
    "# Return None\n",
    "print(f\"Non-existing tag: { bs.missingtag }\")\n",
    "\n",
    "# Raise AttributeError\n",
    "try: \n",
    "    print(bs.missingtag.a)\n",
    "except AttributeError:\n",
    "    print(\"Tag not found!\")"
   ]
  },
  {
   "attachments": {},
   "cell_type": "markdown",
   "metadata": {},
   "source": [
    "### 2.5 - Filter page\n",
    "\n",
    "BeautifulSoup has two methods to filter HTML pages:\n",
    "\n",
    "- **find()** - To get the first match\n",
    "- **find_all()** - To get all matches"
   ]
  },
  {
   "attachments": {},
   "cell_type": "markdown",
   "metadata": {},
   "source": [
    "#### 2.5.1 - Count elements"
   ]
  },
  {
   "cell_type": "code",
   "execution_count": null,
   "metadata": {},
   "outputs": [],
   "source": [
    "from bs4 import BeautifulSoup\n",
    "\n",
    "bs = BeautifulSoup(\"<div><p>1</p><p>2</p><p>3</p></div>\", \"html.parser\")\n",
    "\n",
    "print(f\"Count paragraphs: {len(bs.find_all('p'))}\")"
   ]
  },
  {
   "attachments": {},
   "cell_type": "markdown",
   "metadata": {},
   "source": [
    "#### 2.5.2 - Tag and attributes filter"
   ]
  },
  {
   "cell_type": "code",
   "execution_count": null,
   "metadata": {},
   "outputs": [],
   "source": [
    "from bs4 import BeautifulSoup\n",
    "\n",
    "bs = BeautifulSoup(\"<div><p>1</p><p class='selected'>2</p><a class='selected'>3</a></div>\", \"html.parser\")\n",
    "\n",
    "print(bs.find_all([\"p\", \"a\"], {\"class\": \"selected\"}))"
   ]
  },
  {
   "attachments": {},
   "cell_type": "markdown",
   "metadata": {},
   "source": [
    "#### 2.5.3 - Keyword filter "
   ]
  },
  {
   "cell_type": "code",
   "execution_count": null,
   "metadata": {},
   "outputs": [],
   "source": [
    "from bs4 import BeautifulSoup\n",
    "\n",
    "bs = BeautifulSoup(\"<div><p>1</p><p class='selected'>2</p><a class='selected'>3</a></div>\", \"html.parser\")\n",
    "\n",
    "print(bs.find_all(class_=True))"
   ]
  },
  {
   "attachments": {},
   "cell_type": "markdown",
   "metadata": {},
   "source": [
    "#### 2.5.4 - Content filter"
   ]
  },
  {
   "cell_type": "code",
   "execution_count": null,
   "metadata": {},
   "outputs": [],
   "source": [
    "from bs4 import BeautifulSoup\n",
    "\n",
    "bs = BeautifulSoup(\"<div><p>John</p><p>Richard</p><p>John</p></div>\", \"html.parser\")\n",
    "\n",
    "count = len(bs.find_all(string=\"John\"))\n",
    "print(f\"Match count: {count}\")"
   ]
  },
  {
   "attachments": {},
   "cell_type": "markdown",
   "metadata": {},
   "source": [
    "### 2.6 - Navigation trees\n",
    "\n",
    "Find tags based on document location\n",
    "\n",
    "#### 2.6.1 - Children and Descendants\n",
    "\n",
    "Children are always one tag below their parents.\n",
    "Descendants can be at any level below the parents.\n",
    "\n",
    "All children are descendants, but not all descendants are children. "
   ]
  },
  {
   "cell_type": "code",
   "execution_count": null,
   "metadata": {},
   "outputs": [],
   "source": [
    "from bs4 import BeautifulSoup\n",
    "from urllib.request import urlopen\n",
    "\n",
    "html = urlopen(f\"{project_url}/static/example-2.html\")\n",
    "bs = BeautifulSoup(html.read(), \"html.parser\")\n",
    "\n",
    "children = bs.find(id=\"ageTable\").findChildren(recursive=False)\n",
    "descendants = bs.find(id=\"ageTable\").findChildren(recursive=True)\n",
    "\n",
    "print(f\"Children count: {len(list(children))}\")\n",
    "print(f\"Descendants count: {len(list(descendants))}\")"
   ]
  },
  {
   "attachments": {},
   "cell_type": "markdown",
   "metadata": {},
   "source": [
    "#### 2.6.2 - Siblings\n",
    "\n",
    "Siblings are tags in the same tree level."
   ]
  },
  {
   "cell_type": "code",
   "execution_count": null,
   "metadata": {},
   "outputs": [],
   "source": [
    "first_row = bs.find(\"table\", {\"id\": \"ageTable\"}).tr\n",
    "\n",
    "for index, row in enumerate(first_row.findNextSiblings()):\n",
    "    print(f\"Row {index}: \\n{row}\\n\")"
   ]
  },
  {
   "attachments": {},
   "cell_type": "markdown",
   "metadata": {},
   "source": [
    "#### 2.6.3 - Parents\n",
    "\n",
    "Parents are always one layer above their children."
   ]
  },
  {
   "cell_type": "code",
   "execution_count": null,
   "metadata": {},
   "outputs": [],
   "source": [
    "child = bs.find(id=\"John\")\n",
    "\n",
    "print(f\"Child: {child}\")\n",
    "print(f\"Parent: {child.findParent()}\")"
   ]
  },
  {
   "attachments": {},
   "cell_type": "markdown",
   "metadata": {},
   "source": [
    "### 2.7 Regular expression (REGEX)\n",
    "\n",
    "Regular expression are used to identify regular strings.\n",
    "\n",
    "| Syntax | Description | Example | Example matches |\n",
    "|--------|-------------|---------|-----------------|\n",
    "| ^ | Matches the start of the string. | ^d | dog, door, death |\n",
    "| $ | Matches the end of the string. | t$ | cat, Fat, left |\n",
    "| * | Matches preceding character or expresion 0 or more times. | a\\*b\\* | aabbbb, aaaab, bbb |\n",
    "| + | Matches preceding character or expresion 1 or more times. | c+d+ | cddd, ccccdd, ccccd |\n",
    "| ? | Matches optional character or expresion 0 or 1 times. | cd? | cd, c |\n",
    "| \\ | Matches special characters. | \\? | ? |\n",
    "| {m} | Matches preceding character or expresion exactly a specified number of times. | e{5} | eeeee |\n",
    "| {m, n} | Matches preceding character or expresion a specified **inclusive** range of times. | a{2, 5} | aa, aaaa, aaaaa |\n",
    "| {m, n}? | Matches preceding character or expresion a specified **inclusive** range of times with the **fewest** repetition as possible. | a{2, 5} | aa, aaaa, aaaaa |\n",
    "| {m, n}+ | Matches preceding character or expresion a specified **inclusive** range of times with **as many** repetition as possible. | a{2, 5} | aaaaa, aaaa |\n",
    "| \\| | Matches one of the specified values like an **or** condition. | a\\|b | a, b |\n",
    "| [...] | Matches a set of characters. | [amk], [A-Z], [a-z], [A-Za-z], [0-9], [A-Zk\\.\\$] | m, L, q, G, 2, . |\n",
    "| [^...] | Matches all characters that are **not** in a set of characters. | [^A-Z] | q, G, 2, &, ? |\n",
    "| (...) | Matches a grouped subexpression. | (a\\*b)\\* | aaaababaab |\n",
    "| (?!...) | Matches if ... doesn’t match next | Isaac (?!Newton) | Isaac Asimov |\n",
    "\n",
    "#### 2.7.1 - Special Characters\n",
    "\n",
    "| Symbol | Description |\n",
    "|--------|-------------|\n",
    "| . | Matches all character except new lines. |\n",
    "| \\w | Matches all word characters(like [a-zA-Z0-9_]). |\n",
    "| \\W | Matches no word characters (like [^a-zA-Z0-9_]). |\n",
    "| \\s | Matches all space charcters(which includes [ \\t\\n\\r\\f\\v]) |\n",
    "| \\S | Matches no space charcters(which includes [^ \\t\\n\\r\\f\\v]) |\n",
    "| \\d | Matches all digit characters(like [0-9]). |\n",
    "| \\D | Matches no digit characters(like [^0-9]). |\n",
    "\n",
    "\n"
   ]
  },
  {
   "attachments": {},
   "cell_type": "markdown",
   "metadata": {},
   "source": [
    "#### 2.7.2 - Regular expression on BeautifulSoup\n",
    "\n",
    "Using 're' library."
   ]
  },
  {
   "cell_type": "code",
   "execution_count": null,
   "metadata": {},
   "outputs": [],
   "source": [
    "from urllib.request import urlopen\n",
    "from bs4 import BeautifulSoup\n",
    "import re\n",
    "\n",
    "html = urlopen(f\"{project_url}/static/example-1.html\")\n",
    "bs = BeautifulSoup(html.read(), \"html.parser\")\n",
    "\n",
    "found = bs.find_all(\"p\", string=re.compile(\".*[Ee]xample.*\"))\n",
    "print(f\"Paragraphs with 'example' word: {found}\")"
   ]
  },
  {
   "attachments": {},
   "cell_type": "markdown",
   "metadata": {},
   "source": [
    "### 2.8 - Accessing attributes\n",
    "\n",
    "Tags objects have a \"attrs\" atribute that return a dictionary with all tag atributes. "
   ]
  },
  {
   "cell_type": "code",
   "execution_count": null,
   "metadata": {},
   "outputs": [],
   "source": [
    "from urllib.request import urlopen\n",
    "from bs4 import BeautifulSoup\n",
    "\n",
    "html = urlopen(f\"{project_url}/static/example-2.html\")\n",
    "bs = BeautifulSoup(html.read(), \"html.parser\")\n",
    "\n",
    "found = bs.find_all(\"tr\")\n",
    "\n",
    "for index, tr in enumerate(found):\n",
    "    if \"id\" in tr.attrs:\n",
    "        print(f\"Row {index + 1} id: {tr.attrs['id']}\")\n",
    "    else:\n",
    "        print(f\"Row {index + 1} without id\")"
   ]
  },
  {
   "attachments": {},
   "cell_type": "markdown",
   "metadata": {},
   "source": [
    "### 2.9 - BeautifulSoup objects\n",
    "There are four objects in the library.\n",
    "\n",
    "#### 2.9.1 - BeautifulSoup *objects*\n",
    "The BeautifulSoup object represents the parsed document as a whole."
   ]
  },
  {
   "cell_type": "code",
   "execution_count": 28,
   "metadata": {},
   "outputs": [
    {
     "name": "stdout",
     "output_type": "stream",
     "text": [
      "Type: <class 'bs4.BeautifulSoup'>\n",
      "Example: <html><body><div>Example</div></body></html>\n"
     ]
    }
   ],
   "source": [
    "from bs4 import BeautifulSoup\n",
    "\n",
    "doc = BeautifulSoup(\"<html><body><div>Example</div></body></html>\", \"lxml\")\n",
    "\n",
    "print(f\"Type: {type(doc)}\")\n",
    "print(f\"Example: {doc}\")"
   ]
  },
  {
   "attachments": {},
   "cell_type": "markdown",
   "metadata": {},
   "source": [
    "\n",
    "#### 2.9.2 - Tag *objects*\n",
    "A Tag object corresponds to an XML or HTML tag in the original document.\n"
   ]
  },
  {
   "cell_type": "code",
   "execution_count": 29,
   "metadata": {},
   "outputs": [
    {
     "name": "stdout",
     "output_type": "stream",
     "text": [
      "Type: <class 'bs4.element.Tag'>\n",
      "Example: <div>Example</div>\n"
     ]
    }
   ],
   "source": [
    "from bs4 import BeautifulSoup\n",
    "\n",
    "doc = BeautifulSoup(\"<html><body><div>Example</div></body></html>\", \"lxml\")\n",
    "\n",
    "print(f\"Type: {type(doc.div)}\")\n",
    "print(f\"Example: {doc.div}\")"
   ]
  },
  {
   "attachments": {},
   "cell_type": "markdown",
   "metadata": {},
   "source": [
    "\n",
    "#### 2.9.3 - NavigableString *objects*\n",
    "A string corresponds to a bit of text within a tag. Beautiful Soup uses the NavigableString class to contain these bits of text."
   ]
  },
  {
   "cell_type": "code",
   "execution_count": 30,
   "metadata": {},
   "outputs": [
    {
     "name": "stdout",
     "output_type": "stream",
     "text": [
      "Type: <class 'bs4.element.NavigableString'>\n",
      "Example: Example\n"
     ]
    }
   ],
   "source": [
    "from bs4 import BeautifulSoup\n",
    "\n",
    "doc = BeautifulSoup(\"<html><body><div>Example</div></body></html>\", \"lxml\")\n",
    "\n",
    "print(f\"Type: {type(doc.div.string)}\")\n",
    "print(f\"Example: {doc.div.string}\")"
   ]
  },
  {
   "attachments": {},
   "cell_type": "markdown",
   "metadata": {},
   "source": [
    "#### 2.9.4 - Comment *objects*\n",
    "The Comment object is just a special type of NavigableString"
   ]
  },
  {
   "cell_type": "code",
   "execution_count": 31,
   "metadata": {},
   "outputs": [
    {
     "name": "stdout",
     "output_type": "stream",
     "text": [
      "Type: <class 'bs4.element.Comment'>\n",
      "Example:  Comment example \n"
     ]
    }
   ],
   "source": [
    "from bs4 import BeautifulSoup\n",
    "\n",
    "doc = BeautifulSoup(\"<html><body><div><!-- Comment example --></div></body></html>\", \"lxml\")\n",
    "\n",
    "print(f\"Type: {type(doc.div.string)}\")\n",
    "print(f\"Example: {doc.div.string}\")"
   ]
  },
  {
   "attachments": {},
   "cell_type": "markdown",
   "metadata": {},
   "source": [
    "### 2.10 - Lambda expressions\n",
    "\n",
    "BeautifulSoup allow you to pass a lambda funtion as parameters, the only restriction is that these functions must take a tag object as an argument and return a boolean."
   ]
  },
  {
   "cell_type": "code",
   "execution_count": 36,
   "metadata": {},
   "outputs": [
    {
     "name": "stdout",
     "output_type": "stream",
     "text": [
      "Example: <div id=\"selected\">Selected tag</div>\n"
     ]
    }
   ],
   "source": [
    "from bs4 import BeautifulSoup\n",
    "\n",
    "bs = BeautifulSoup(\"<div>Not selected</div> <div id='selected'>Selected tag</div>\", \"lxml\")\n",
    "\n",
    "selected = bs.find(lambda tag: (\"id\" in tag.attrs and tag.attrs[\"id\"] == \"selected\"))\n",
    "print(f\"Example: {selected}\")"
   ]
  }
 ],
 "metadata": {
  "kernelspec": {
   "display_name": "Python 3",
   "language": "python",
   "name": "python3"
  },
  "language_info": {
   "codemirror_mode": {
    "name": "ipython",
    "version": 3
   },
   "file_extension": ".py",
   "mimetype": "text/x-python",
   "name": "python",
   "nbconvert_exporter": "python",
   "pygments_lexer": "ipython3",
   "version": "3.11.1"
  },
  "orig_nbformat": 4
 },
 "nbformat": 4,
 "nbformat_minor": 2
}
