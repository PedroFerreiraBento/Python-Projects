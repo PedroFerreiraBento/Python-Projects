{
 "cells": [
  {
   "attachments": {},
   "cell_type": "markdown",
   "metadata": {},
   "source": [
    "# Introducing Python"
   ]
  },
  {
   "attachments": {},
   "cell_type": "markdown",
   "metadata": {},
   "source": [
    "## 1) Introducing\n",
    "\n",
    "### 1.1) Python usage\n",
    "\n",
    "You’ll find Python in many computing environments, including these:\n",
    "\n",
    "- The command line in a monitor or terminal window\n",
    "- Graphical user interfaces (GUIs), including the web\n",
    "- The web, on the client and server sides\n",
    "- Backend servers supporting large popular sites\n",
    "- The cloud (servers managed by third parties)\n",
    "- Mobile devices\n",
    "- Embedded devices"
   ]
  },
  {
   "attachments": {},
   "cell_type": "markdown",
   "metadata": {},
   "source": [
    "### 1.2) Why Python\n",
    "\n",
    "- **Easy to Learn**: Python has a simple and easy-to-read syntax that makes it easy to learn, even for beginners. The language has a clear and concise structure, with a large standard library that provides many pre-built functions and modules.\n",
    "\n",
    "- **Versatile**: Python can be used for a wide variety of tasks, such as web development, data analysis, machine learning, scientific computing, and more. It is a highly versatile language that can be adapted to suit your needs.\n",
    "\n",
    "- **Large Community and Ecosystem**: Python has a large and active community of developers who are constantly creating and contributing to new libraries, frameworks, and tools. This makes it easy to find support, collaborate on projects, and extend the language's capabilities.\n",
    "\n",
    "- **Cross-Platform**: Python is a cross-platform language, meaning that it can run on multiple operating systems such as Windows, Linux, and macOS. This makes it a great choice for projects that need to be deployed on multiple platforms.\n",
    "\n",
    "- **High Demand in Industry**: Python is widely used in industry, especially in the fields of data science, artificial intelligence, and web development. Learning Python can be a valuable asset for your career, as it is a highly sought-after skill in the job market."
   ]
  },
  {
   "attachments": {},
   "cell_type": "markdown",
   "metadata": {},
   "source": [
    "### 1.3) Why not Python\n",
    "\n",
    "- Speed: While Python is known for its ease of use and readability, it is not the fastest language out there. In tasks where speed is crucial, such as high-performance computing or real-time applications, other languages such as C or C++ may be more suitable.\n",
    "\n",
    "- Mobile development: Python is not as widely used for mobile app development as languages like Java and Swift. While there are frameworks like Kivy and BeeWare that allow you to develop mobile apps in Python, they may not be as well-established as the native options.\n",
    "\n",
    "- Limited support for multithreading: Python has a Global Interpreter Lock (GIL) that prevents multiple threads from executing Python bytecode at once. This means that Python may not be the best choice for tasks that require heavy use of multithreading or parallel processing. However, there are workarounds such as using multiple processes or using external libraries like NumPy and SciPy that can help mitigate this issue."
   ]
  },
  {
   "attachments": {},
   "cell_type": "markdown",
   "metadata": {},
   "source": [
    "### 1.4) Python philosophy\n",
    "\n",
    "Python has an Easter Egg that expresses the Python philosophy. To see it you just need to use `import this` "
   ]
  },
  {
   "cell_type": "code",
   "execution_count": null,
   "metadata": {},
   "outputs": [],
   "source": [
    "import this"
   ]
  },
  {
   "attachments": {},
   "cell_type": "markdown",
   "metadata": {},
   "source": [
    "## 2) Variables\n",
    "\n",
    "Variables are names used to refer to an object\n",
    "\n",
    "### 2.1) Naming rules\n",
    "\n",
    "- They can contain only these characters:\n",
    "  - Lowercase letters (a through z)\n",
    "  - Uppercase letters (A through Z)\n",
    "  - Digits (0 through 9)\n",
    "  - Underscore (_)\n",
    "\n",
    "- They are case-sensitive: (dog, DOG, DoG, dOg) are different names\n",
    "\n",
    "- **Cannot BEGIN** with a *number*\n",
    "\n",
    "- Cannot be a reserved word\n",
    "  - You can check the reserved words by using the following command `help(\"keywords\")`"
   ]
  },
  {
   "cell_type": "code",
   "execution_count": null,
   "metadata": {},
   "outputs": [],
   "source": [
    "# Example of valid names\n",
    "dog = \"Pug\"\n",
    "Color = \"White\"\n",
    "_name = \"Richard\"\n",
    "number_1 = 35\n",
    "\n",
    "# Invalid names will threw an exeption (Error)\n",
    "3cats = 2"
   ]
  },
  {
   "attachments": {},
   "cell_type": "markdown",
   "metadata": {},
   "source": [
    "You can get the reserved word using '**keywords**' python built-in library"
   ]
  },
  {
   "cell_type": "code",
   "execution_count": null,
   "metadata": {},
   "outputs": [],
   "source": [
    "import keyword\n",
    "\n",
    "print(f\"Keywords: {keyword.kwlist}\")"
   ]
  },
  {
   "attachments": {},
   "cell_type": "markdown",
   "metadata": {},
   "source": [
    "You can also check if your variable name is a keyword"
   ]
  },
  {
   "cell_type": "code",
   "execution_count": null,
   "metadata": {},
   "outputs": [],
   "source": [
    "print(f\"\\nIs Cat a keyword? {keyword.iskeyword('Cat')}\")"
   ]
  },
  {
   "attachments": {},
   "cell_type": "markdown",
   "metadata": {},
   "source": [
    "### 2.2) Assign values\n",
    "\n",
    "Python uses the \"=\" character for assignment"
   ]
  },
  {
   "cell_type": "code",
   "execution_count": null,
   "metadata": {},
   "outputs": [],
   "source": [
    "# Single assignment\n",
    "dog = \"Pug\"\n",
    "\n",
    "# Multiple assignment\n",
    "animal = dog = \"Pug\"\n",
    "\n",
    "# Show variables values\n",
    "print(f\"{animal = }\")\n",
    "print(f\"{dog = }\")"
   ]
  },
  {
   "attachments": {},
   "cell_type": "markdown",
   "metadata": {},
   "source": [
    "## 3) Data\n",
    "\n",
    "### 3.1) Types\n",
    "\n",
    "| Name | Type | Mutable | Examples |\n",
    "|------|------|---------|----------|\n",
    "|Boolean|bool|no|True, False|\n",
    "|Integer|int|no|1, 35, 1_000, 2e5|\n",
    "|Floating point|float|no|1.5, 1.0, 0.0, 1.2e2|\n",
    "|Complex|complex|no|3j, 2 + 4j|\n",
    "|Strings|str|no|\"cat\", 'Dog', \"\"\"Bird\"\"\"|\n",
    "|Lists|list|yes|[1,2,3], ['a','b'], [1,'c']|\n",
    "|Tuples|tuple|yes|(1,2,3), ('a','b'), (1,'c')|\n",
    "|Dictionary|dict|yes|{\"name\": \"John\", \"age\": 18}|\n",
    "|Set|set|yes|{\"Dog\", \"Cat\"}|\n",
    "\n",
    "You can check a variable type using the `type()` function \n",
    "\n",
    "### 3.2) Mutability\n",
    "\n",
    "The type determines whether the **can be changed** (Mutable) or **is constant** (Immutable)\n",
    "\n",
    "#### 3.2.1) Immutable example\n",
    "\n",
    "- You can assign the same value for many variables, but to change it you will need to create a new object.\n",
    "- Change the value of a variable don't change the value of others varibles assigned to the previous value."
   ]
  },
  {
   "cell_type": "code",
   "execution_count": null,
   "metadata": {},
   "outputs": [],
   "source": [
    "# Assing 10 to varible values\n",
    "x = 10\n",
    "y = x\n",
    "\n",
    "# Print variable values, and the object ID\n",
    "print(f\"Old {x =}, {id(x) =}\")\n",
    "print(f\"Old {y =}, {id(y) =}\")\n",
    "\n",
    "# Change the value of 'x'\n",
    "x = 22\n",
    "\n",
    "# Print variable values, and the object ID\n",
    "print(f\"\\nNew {x =}, {id(x) =}\")\n",
    "print(f\"New {y =}, {id(y) =}\")"
   ]
  },
  {
   "attachments": {},
   "cell_type": "markdown",
   "metadata": {},
   "source": [
    "#### 3.2.2) Mutable example\n",
    "\n",
    "- You can assign the same value for many variables and modify it freely.\n",
    "- Change the value of a variable **WILL** change the value of others varibles assigned to the previous value."
   ]
  },
  {
   "cell_type": "code",
   "execution_count": null,
   "metadata": {},
   "outputs": [],
   "source": [
    "# Assing a list to varible values\n",
    "x = [1, 2, 3]\n",
    "y = x\n",
    "\n",
    "# Print variable values, and the object ID\n",
    "print(f\"Old {x =}, {id(x) =}\")\n",
    "print(f\"Old {y =}, {id(y) =}\")\n",
    "\n",
    "# Change the value of 'x'\n",
    "x[0] = 4\n",
    "\n",
    "# Print variable values, and the object ID\n",
    "print(f\"\\nNew {x =}, {id(x) =}\")\n",
    "print(f\"New {y =}, {id(y) =}\")"
   ]
  },
  {
   "attachments": {},
   "cell_type": "markdown",
   "metadata": {},
   "source": [
    "### 3.3) Booleans\n",
    "\n",
    "Booleans can only have two values: **True** or **False**"
   ]
  },
  {
   "cell_type": "code",
   "execution_count": null,
   "metadata": {},
   "outputs": [],
   "source": [
    "boolean_example = True\n",
    "print(f\"{type(boolean_example) = }\")"
   ]
  },
  {
   "attachments": {},
   "cell_type": "markdown",
   "metadata": {},
   "source": [
    "#### 3.3.1) Boolean convertion\n",
    "\n",
    "You can use the `bool()` funtion to convert values to boolean\n",
    "\n",
    "Python consider everything different of **Zero** or **Empty** as True."
   ]
  },
  {
   "cell_type": "code",
   "execution_count": null,
   "metadata": {},
   "outputs": [],
   "source": [
    "print(\"Conversion examples: True\\n\")\n",
    "print(f\"{bool(10) = }\")\n",
    "print(f\"{bool(5.1) = }\")\n",
    "print(f\"{bool('Dog') = }\")\n",
    "print(f\"{bool('True') = }\")\n",
    "print(f\"{bool([1,2,3]) = }\")\n",
    "\n",
    "print(\"\\nConversion examples: False\\n\")\n",
    "print(f\"{bool(0) = }\")\n",
    "print(f\"{bool(0.0) = }\")\n",
    "print(f\"{bool('') = }\")\n",
    "print(f\"{bool('False') = }\")\n",
    "print(f\"{bool([]) = }\")"
   ]
  },
  {
   "attachments": {},
   "cell_type": "markdown",
   "metadata": {},
   "source": [
    "### 3.4) Integers\n",
    "\n",
    "Integers are whole numbers. \n",
    "\n",
    "You can use '_' in numeric objects as a digit separator (It will be ignored as a comment)."
   ]
  },
  {
   "cell_type": "code",
   "execution_count": null,
   "metadata": {},
   "outputs": [],
   "source": [
    "integer_example = -35_000_000\n",
    "print(f\"{type(integer_example) = }\")"
   ]
  },
  {
   "attachments": {},
   "cell_type": "markdown",
   "metadata": {},
   "source": [
    "#### 3.4.1) Integer conversion\n",
    "\n",
    "You can use `int()` function to convert values to integer.\n",
    "\n",
    "`int()` function just lops off everything after the decimal point."
   ]
  },
  {
   "cell_type": "code",
   "execution_count": null,
   "metadata": {},
   "outputs": [],
   "source": [
    "# Valid convertions\n",
    "print(f\"{int(10.9) = }\")\n",
    "print(f\"{int(True) = }\")\n",
    "print(f\"{int(False) = }\")\n",
    "print(f\"{int('10') = }\")"
   ]
  },
  {
   "attachments": {},
   "cell_type": "markdown",
   "metadata": {},
   "source": [
    "Python will raise an exception for invalid values"
   ]
  },
  {
   "cell_type": "code",
   "execution_count": null,
   "metadata": {},
   "outputs": [],
   "source": [
    "int('dog')"
   ]
  },
  {
   "attachments": {},
   "cell_type": "markdown",
   "metadata": {},
   "source": [
    "Integer in python can't have **left zeros**"
   ]
  },
  {
   "cell_type": "code",
   "execution_count": null,
   "metadata": {},
   "outputs": [],
   "source": [
    "int(001)"
   ]
  },
  {
   "attachments": {},
   "cell_type": "markdown",
   "metadata": {},
   "source": [
    "### 3.4) Floating points\n",
    "\n",
    "Floating points are numbers with decimal points. "
   ]
  },
  {
   "cell_type": "code",
   "execution_count": null,
   "metadata": {},
   "outputs": [],
   "source": [
    "integer_example = -1_000.25\n",
    "print(f\"{type(integer_example) = }\")"
   ]
  },
  {
   "attachments": {},
   "cell_type": "markdown",
   "metadata": {},
   "source": [
    "#### 3.4.1) Float conversion\n",
    "\n",
    "You can use `float()` function to convert values to floating points."
   ]
  },
  {
   "cell_type": "code",
   "execution_count": null,
   "metadata": {},
   "outputs": [],
   "source": [
    "# Valid convertions\n",
    "print(f\"{float(10) = }\")\n",
    "print(f\"{float(True) = }\")\n",
    "print(f\"{float(False) = }\")\n",
    "print(f\"{float('10.4') = }\")\n",
    "print(f\"{float('2e4') = }\")"
   ]
  },
  {
   "attachments": {},
   "cell_type": "markdown",
   "metadata": {},
   "source": [
    "### 3.5) Sequences\n",
    "\n",
    "Sequences are grouped object\n",
    "\n",
    "#### 3.5.1) Strings\n",
    "\n",
    "Strings are characters sequences"
   ]
  },
  {
   "cell_type": "code",
   "execution_count": null,
   "metadata": {},
   "outputs": [],
   "source": [
    "print(f\"{type('String example') = }\")"
   ]
  },
  {
   "attachments": {},
   "cell_type": "markdown",
   "metadata": {},
   "source": [
    "You can define a string with single ou doble quotes: 'example' and \"example\" "
   ]
  },
  {
   "cell_type": "code",
   "execution_count": null,
   "metadata": {},
   "outputs": [],
   "source": [
    "print(\"Example 1\")\n",
    "print('Example 2')"
   ]
  },
  {
   "attachments": {},
   "cell_type": "markdown",
   "metadata": {},
   "source": [
    "You can use three of them to define multiple lines strings"
   ]
  },
  {
   "cell_type": "code",
   "execution_count": null,
   "metadata": {},
   "outputs": [],
   "source": [
    "print(\"\"\"Line 1\n",
    "Line 2\"\"\")\n",
    "\n",
    "print('''\\nLine 3\n",
    "Line 4''')"
   ]
  },
  {
   "attachments": {},
   "cell_type": "markdown",
   "metadata": {},
   "source": [
    "##### 3.5.1.1) String conversion \n",
    "\n",
    "You can use `str()` function to convert values to strings."
   ]
  },
  {
   "cell_type": "code",
   "execution_count": null,
   "metadata": {},
   "outputs": [],
   "source": [
    "print(f\"{str(10) = }\")\n",
    "print(f\"{str(10.5) = }\")\n",
    "print(f\"{str(True) = }\")\n",
    "print(f\"{str([1,2,3]) = }\")"
   ]
  },
  {
   "attachments": {},
   "cell_type": "markdown",
   "metadata": {},
   "source": [
    "##### 3.5.1.2) String escapes\n",
    "\n",
    "You can use \\ to scape a special character or give special meaning."
   ]
  },
  {
   "cell_type": "code",
   "execution_count": null,
   "metadata": {},
   "outputs": [],
   "source": [
    "print(\"Quotes scape: \\\"Example\\\"\")\n",
    "print(\"Break lines: Line 1 \\n Line 2\")\n",
    "print(\"Tabs: Line 1\\tLine 2\")\n",
    "print(\"Backslash scape: \\\\\")"
   ]
  },
  {
   "attachments": {},
   "cell_type": "markdown",
   "metadata": {},
   "source": [
    "##### 3.5.1.3) String split and join"
   ]
  },
  {
   "cell_type": "code",
   "execution_count": null,
   "metadata": {},
   "outputs": [],
   "source": [
    "example = \"Big blue dog\"\n",
    "print(f\"{example.split() = }\")\n",
    "print(f\"{'-'.join(['a','b','c']) = }\")"
   ]
  },
  {
   "attachments": {},
   "cell_type": "markdown",
   "metadata": {},
   "source": [
    "##### 3.5.1.4) String strip"
   ]
  },
  {
   "cell_type": "code",
   "execution_count": null,
   "metadata": {},
   "outputs": [],
   "source": [
    "example = \"    spaced example!!!    \"\n",
    "print(f\"{example.strip() = }\")\n",
    "print(f\"{example.lstrip() = }\")\n",
    "print(f\"{example.rstrip() = }\")\n",
    "print(f\"{example.strip(' !') = }\")\n"
   ]
  },
  {
   "attachments": {},
   "cell_type": "markdown",
   "metadata": {},
   "source": [
    "##### 3.5.1.5) String replace"
   ]
  },
  {
   "cell_type": "code",
   "execution_count": null,
   "metadata": {},
   "outputs": [],
   "source": [
    "example = \"A beautiful big dog\"\n",
    "print(f\"{example.replace('dog', 'cat') = }\") "
   ]
  },
  {
   "attachments": {},
   "cell_type": "markdown",
   "metadata": {},
   "source": [
    "##### 3.5.1.6) Start with and End with "
   ]
  },
  {
   "cell_type": "code",
   "execution_count": null,
   "metadata": {},
   "outputs": [],
   "source": [
    "example = \"A beautiful big dog\"\n",
    "print(f\"{example.startswith('dog') = }\") \n",
    "print(f\"{example.endswith('dog') = }\") "
   ]
  },
  {
   "attachments": {},
   "cell_type": "markdown",
   "metadata": {},
   "source": [
    "##### 3.5.1.7) Characters transformation "
   ]
  },
  {
   "cell_type": "code",
   "execution_count": null,
   "metadata": {},
   "outputs": [],
   "source": [
    "example = \"a flying BIRD\"\n",
    "print(f\"{example = }\") \n",
    "print(f\"{example.capitalize() = }\") \n",
    "print(f\"{example.title() = }\") \n",
    "print(f\"{example.upper() = }\") \n",
    "print(f\"{example.lower() = }\") \n",
    "print(f\"{example.swapcase() = }\") "
   ]
  },
  {
   "attachments": {},
   "cell_type": "markdown",
   "metadata": {},
   "source": [
    "##### 3.5.1.8) Alignment"
   ]
  },
  {
   "cell_type": "code",
   "execution_count": null,
   "metadata": {},
   "outputs": [],
   "source": [
    "example = \"a running duck\"\n",
    "print(f\"{example.center(30) = }\") \n",
    "print(f\"{example.ljust(30) = }\") \n",
    "print(f\"{example.rjust(30) = }\") "
   ]
  },
  {
   "attachments": {},
   "cell_type": "markdown",
   "metadata": {},
   "source": [
    "##### 3.5.1.9) Formatting\n",
    "\n",
    "- old style (supported in Python 2 and 3)\n",
    "- new style (Python 2.6 and up)\n",
    "- f-strings (Python 3.6 and up)\n",
    "\n",
    "###### 3.5.1.9.1) Old style\n",
    "\n",
    "format_string % data\n",
    "\n",
    "Data types that can be formated:\n",
    "\n",
    "- `%s` - string\n",
    "- `%d` - decimal integer\n",
    "- `%x` - hex integer\n",
    "- `%o` - octal integer\n",
    "- `%f` - decimal float\n",
    "- `%e` - exponential float\n",
    "- `%g` - decimal or exponential float\n",
    "- `%%` - a literal %"
   ]
  },
  {
   "cell_type": "code",
   "execution_count": null,
   "metadata": {},
   "outputs": [],
   "source": [
    "print(f\"{'%s' % 42 = }\")\n",
    "print(f\"{'%d' % 42 = }\")\n",
    "print(f\"{'%x' % 42 = }\")\n",
    "print(f\"{'%o' % 42 = }\")\n",
    "\n",
    "print(f\"\\n{'%s' % 7.03 = }\")\n",
    "print(f\"{'%f' % 7.03 = }\")\n",
    "print(f\"{'%e' % 7.03 = }\")\n",
    "print(f\"{'%g' % 7.03 = }\")\n",
    "\n",
    "print(\"\\nThe %s is %s\" % (\"Dog\", \"Black\"))"
   ]
  },
  {
   "attachments": {},
   "cell_type": "markdown",
   "metadata": {},
   "source": [
    "Format syntax:\n",
    "\n",
    "- An initial '%' character.\n",
    "- An optional alignment character: nothing or '+' means right-align, and '-'\n",
    "means left-align.\n",
    "- An optional minwidth field width to use.\n",
    "- An optional '.' character to separate minwidth and maxchars.\n",
    "- An optional maxchars (if conversion type is s) saying how many characters to\n",
    "print from the data value. If the conversion type is f, this specifies precision (how\n",
    "many digits to print after the decimal point).\n",
    "- The conversion type character from the earlier table."
   ]
  },
  {
   "cell_type": "code",
   "execution_count": null,
   "metadata": {},
   "outputs": [],
   "source": [
    "thing = 'Big mouse'\n",
    "print(f\"{'%s' % thing = }\")\n",
    "print(f\"{'%12s' % thing = }\")\n",
    "print(f\"{'%-12s' % thing = }\")\n",
    "print(f\"{'%.3s' % thing = }\")\n",
    "print(f\"{'%12.2s' % thing = }\")"
   ]
  },
  {
   "attachments": {},
   "cell_type": "markdown",
   "metadata": {},
   "source": [
    "###### 3.5.1.9.1) New style: Format\n",
    "\n",
    "Style: {} and format()"
   ]
  },
  {
   "cell_type": "code",
   "execution_count": null,
   "metadata": {},
   "outputs": [],
   "source": [
    "\"Animal: {}\".format(\"Dolphin\")"
   ]
  },
  {
   "cell_type": "code",
   "execution_count": null,
   "metadata": {},
   "outputs": [],
   "source": [
    "# Multiple formats\n",
    "print(\"1 - Animal: {}, Color: {}\".format(\"Lion\", \"Orange\"))\n",
    "print(\"2 - Animal: {0}, Color: {0}\".format(\"Yellow\"))\n",
    "print(\"3 - Animal: {1}, Color: {0}\".format(\"Red\", \"Fish\"))\n",
    "print(\"4 - Animal: {animal}, Color: {color}\".format(animal=\"Crab\", color=\"Purple\"))\n",
    "print(\"5 - Animal: {0[animal]}, Color: {0[color]}\".format({\"animal\":\"Spider\", \"color\":\"Pink\"}))"
   ]
  },
  {
   "attachments": {},
   "cell_type": "markdown",
   "metadata": {},
   "source": [
    "Format syntax:\n",
    "- An initial colon (':').\n",
    "- An optional fill character (default ' ') to pad the value string if it’s shorter than\n",
    "minwidth.\n",
    "- An optional alignment character. This time, left alignment is the default. '<' also\n",
    "means left, '>' means right, and '^' means center.\n",
    "- An optional sign for numbers. Nothing means only prepend a minus sign ('-')\n",
    "for negative numbers. ' ' means prepend a minus sign for negative numbers,\n",
    "and a space (' ') for positive ones.\n",
    "- An optional minwidth. An optional period ('.') to separate minwidth and max‐\n",
    "chars.\n",
    "- An optional maxchars.\n",
    "- The conversion type."
   ]
  },
  {
   "cell_type": "code",
   "execution_count": 95,
   "metadata": {},
   "outputs": [
    {
     "name": "stdout",
     "output_type": "stream",
     "text": [
      "'{:*^30.3}'.format('Big dog') = '*************Big**************'\n"
     ]
    }
   ],
   "source": [
    "print(f\"{'{:*^30.3}'.format('Big dog') = }\")"
   ]
  },
  {
   "attachments": {},
   "cell_type": "markdown",
   "metadata": {},
   "source": [
    "###### 3.5.1.9.1) New style: f-strings\n",
    "\n",
    "Type the letter `f` directly before the string to format.\n",
    "\n",
    "You can include variables or expressions inside the `{ }`"
   ]
  },
  {
   "cell_type": "code",
   "execution_count": 99,
   "metadata": {},
   "outputs": [
    {
     "name": "stdout",
     "output_type": "stream",
     "text": [
      "A green big dog\n"
     ]
    }
   ],
   "source": [
    "animal = \"dog\"\n",
    "color = \"green\"\n",
    "print(f\"A {color} big {animal}\")"
   ]
  },
  {
   "attachments": {},
   "cell_type": "markdown",
   "metadata": {},
   "source": [
    "You can add a equals sign(=) right before `}` to show the expression in addition to result "
   ]
  },
  {
   "cell_type": "code",
   "execution_count": 101,
   "metadata": {},
   "outputs": [
    {
     "name": "stdout",
     "output_type": "stream",
     "text": [
      "10 + 5 = 15\n"
     ]
    }
   ],
   "source": [
    "print(f\"{10 + 5 = }\")"
   ]
  },
  {
   "attachments": {},
   "cell_type": "markdown",
   "metadata": {},
   "source": [
    "You can use the new-style format syntex right after the variable or expression"
   ]
  },
  {
   "cell_type": "code",
   "execution_count": 106,
   "metadata": {},
   "outputs": [
    {
     "name": "stdout",
     "output_type": "stream",
     "text": [
      "Big$$$$$$$$$$$$$$$$$$$$$$$$$$$\n"
     ]
    }
   ],
   "source": [
    "example = 'Big dog'\n",
    "print(f\"{example:$<30.3}\")"
   ]
  },
  {
   "attachments": {},
   "cell_type": "markdown",
   "metadata": {},
   "source": [
    "#### 3.5.5) Sequence slicing\n",
    "\n",
    "Slice a sequence with [ ] using charactes position. \n",
    "Notes:\n",
    "- Slicing syntax: [start : end : step]\n",
    "- Position count starts with `0`\n",
    "- You can use reverse positions with negative numbers"
   ]
  },
  {
   "cell_type": "code",
   "execution_count": null,
   "metadata": {},
   "outputs": [],
   "source": [
    "example = \"Big blue cat\"\n",
    "\n",
    "print(f\"{example[0] = }\")\n",
    "print(f\"{example[-1] = }\")\n",
    "print(f\"{example[0:3] = }\")\n",
    "print(f\"{example[::3] = }\")\n",
    "print(f\"{example[::-1] = }\")\n",
    "print(f\"{example[-3:] = }\")"
   ]
  },
  {
   "attachments": {},
   "cell_type": "markdown",
   "metadata": {},
   "source": [
    "#### 3.5.6) Sequence length"
   ]
  },
  {
   "cell_type": "code",
   "execution_count": null,
   "metadata": {},
   "outputs": [],
   "source": [
    "print(f\"{len('Dog') = }\")\n",
    "print(f\"{len((1,2,3,4)) = }\")\n",
    "print(f\"{len([2,4]) = }\")"
   ]
  },
  {
   "attachments": {},
   "cell_type": "markdown",
   "metadata": {},
   "source": [
    "## 4) Operators\n",
    "\n",
    "### 4.1) Arithmetic operators\n",
    "\n",
    "| Name | Operator | Example | Result |\n",
    "|------|----------|---------|--------|\n",
    "|Addition|+|5 + 4|9|\n",
    "|Subtraction|-|5 - 4|1|\n",
    "|Multiplication|*|5 * 4|20|\n",
    "|Float point division|/|7 / 2|3.5|\n",
    "|Integer (Truncating) division|//|7 // 2|3|\n",
    "|Modulus (Remainder)|%|7 % 2|1|\n",
    "|Exponentiation|**| 2 ** 4|16|"
   ]
  },
  {
   "cell_type": "code",
   "execution_count": null,
   "metadata": {},
   "outputs": [],
   "source": [
    "print(f\"{7 + 4 = }\")\n",
    "print(f\"{7 - 4 = }\")\n",
    "print(f\"{7 * 4 = }\")\n",
    "print(f\"{7 / 4 = }\")\n",
    "print(f\"{7 // 4 = }\")\n",
    "print(f\"{7 % 4 = }\")\n",
    "print(f\"{7 ** 4 = }\")"
   ]
  },
  {
   "attachments": {},
   "cell_type": "markdown",
   "metadata": {},
   "source": [
    "### 4.2) Assignment operators\n",
    "\n",
    "You can use any arithmetic operator combined with \"=\" to apply an operation to a variable value. It makes the code clear."
   ]
  },
  {
   "cell_type": "code",
   "execution_count": null,
   "metadata": {},
   "outputs": [],
   "source": [
    "# Not using assignment operators\n",
    "x = 10\n",
    "x = x + 5\n",
    "\n",
    "# Using assignment operators\n",
    "y = 10\n",
    "y += 5"
   ]
  },
  {
   "attachments": {},
   "cell_type": "markdown",
   "metadata": {},
   "source": [
    "### 4.3) Sequence operators\n",
    "\n",
    "| Name | Operator | Example | Result |\n",
    "|------|----------|---------|--------|\n",
    "|Concatenate|+|\"abc\" + \"def\"<br> [1, 2, 3] + [4, 5, 6]|\"abcdef\"<br>[1, 2, 3, 4, 5, 6]|\n",
    "|Repeat|*|\"Tic \" * 3 <br>[0] * 3|\"Tic Tic Tic \"<br>[0, 0, 0]|"
   ]
  },
  {
   "cell_type": "code",
   "execution_count": null,
   "metadata": {},
   "outputs": [],
   "source": [
    "print(f\"{'Au ' * 3 = }\")\n",
    "print(f\"{[3] + ['Banana'] = }\")"
   ]
  },
  {
   "attachments": {},
   "cell_type": "markdown",
   "metadata": {},
   "source": [
    "### 4.4) Logical operators\n",
    "\n",
    "| Operator | Example | Result |\n",
    "|----------|---------|--------|\n",
    "|and|True and False<br>True and True|False<br>True|\n",
    "|or|True or False<br>False or False|True<br>False|\n",
    "|not|not True<br>not False|False<br>True|"
   ]
  },
  {
   "cell_type": "code",
   "execution_count": null,
   "metadata": {},
   "outputs": [],
   "source": [
    "# AND\n",
    "print(f\"{True and True = }\")\n",
    "print(f\"{True and False = }\")\n",
    "\n",
    "# or\n",
    "print(f\"\\n{True or False = }\")\n",
    "print(f\"{False or False = }\")\n",
    "\n",
    "# NOT\n",
    "print(f\"\\n{not True = }\")\n",
    "print(f\"{not False = }\")"
   ]
  },
  {
   "attachments": {},
   "cell_type": "markdown",
   "metadata": {},
   "source": [
    "### 4.5) Comparison operators\n",
    "\n",
    "Compare two values\n",
    "\n",
    "| Name | Operator | Example | Result |\n",
    "|------|----------|---------|--------|\n",
    "|Equals to|==|100 == 2<br>10 == 10.0|False<br>True|\n",
    "|Not equals to|!=|100 != 2<br>10 != 10.0|True<br>False|\n",
    "|Less than|<|100 < 2<br>10 < 10.0|False<br>False|\n",
    "|Greater than|>|100 > 2<br>10 > 10.0|True<br>False|\n",
    "|Less than or equals to|<=|100 <= 2<br>10 <= 10.0|False<br>True|\n",
    "|Greater than or equals to|>=|100 > 2<br>10 >= 10.0|True<br>True|\n"
   ]
  },
  {
   "cell_type": "code",
   "execution_count": null,
   "metadata": {},
   "outputs": [],
   "source": [
    "print(f\"{100 == 2 = }\")\n",
    "print(f\"{10 == 10.0 = }\")\n",
    "\n",
    "print(f\"\\n{100 != 2 = }\")\n",
    "print(f\"{10 != 10.0 = }\")\n",
    "\n",
    "print(f\"\\n{100 < 2 = }\")\n",
    "print(f\"{10 < 10.0 = }\")\n",
    "\n",
    "print(f\"\\n{100 > 2 = }\")\n",
    "print(f\"{10 > 10.0 = }\")\n",
    "\n",
    "print(f\"\\n{100 <= 2 = }\")\n",
    "print(f\"{10 <= 10.0 = }\")\n",
    "\n",
    "print(f\"\\n{100 >= 2 = }\")\n",
    "print(f\"{10 >= 10.0 = }\")\n"
   ]
  },
  {
   "attachments": {},
   "cell_type": "markdown",
   "metadata": {},
   "source": [
    "### 4.6) Membership operators\n",
    "\n",
    "Check if an object(Can be a sequence or not) is inside a sequence\n",
    "\n",
    "| Operator | Example | Result |\n",
    "|----------|---------|--------|\n",
    "|in|1 in [1,2,3]<br>4 in [1,2,3]|True<br>False|\n",
    "|not in|6 not in [1,2,3]<br>3 not in [1,2,3]|True<br>False|"
   ]
  },
  {
   "cell_type": "code",
   "execution_count": null,
   "metadata": {},
   "outputs": [],
   "source": [
    "print(f\"{1 in [1,2,3] = }\")\n",
    "print(f\"{4 in [1,2,3] = }\")\n",
    "\n",
    "print(f\"\\n{6 not in [1,2,3] = }\")\n",
    "print(f\"{3 not in [1,2,3] = }\")\n"
   ]
  },
  {
   "attachments": {},
   "cell_type": "markdown",
   "metadata": {},
   "source": [
    "### 4.7) Identity operators\n",
    "\n",
    "Compare the memory address. \n",
    "\n",
    "Note: \n",
    "- Try not use this with literal values as it check the memory address\n",
    "- You can check the memory address with `ìd()` function\n",
    "\n",
    "| Operator | Example | Result |\n",
    "|----------|---------|--------|\n",
    "|is|\"True\" is True<br>10 is 10|False<br>True|\n",
    "|is not|[1,2,3] is not [1,2,3]<br>\"dog\" is not \"dog\"|True<br>True|"
   ]
  },
  {
   "cell_type": "code",
   "execution_count": null,
   "metadata": {},
   "outputs": [],
   "source": [
    "x = \"True\"\n",
    "y = True\n",
    "print(f\"{x is y = }\")\n",
    "\n",
    "x = 10\n",
    "y = 10\n",
    "print(f\"{x is y = }\")\n",
    "\n",
    "\n",
    "x = [1,2,3]\n",
    "y = [1,2,3]\n",
    "print(f\"\\n{x is not y = }\")\n",
    "\n",
    "\n",
    "x = 'dog'\n",
    "y = 'dog'\n",
    "print(f\"{x is not y = }\")"
   ]
  },
  {
   "attachments": {},
   "cell_type": "markdown",
   "metadata": {},
   "source": [
    "### 4.8) Bitwise operators\n",
    "\n",
    "- `&` (AND): performs a bitwise AND operation on two numbers. The result is a number that has a 1 in each bit position where both input numbers have a 1.\n",
    "\n",
    "- `|` (OR): performs a bitwise OR operation on two numbers. The result is a number that has a 1 in each bit position where at least one of the input numbers has a 1.\n",
    "\n",
    "- `^` (XOR): performs a bitwise XOR (exclusive OR) operation on two numbers. The result is a number that has a 1 in each bit position where the two input numbers have different values.\n",
    "\n",
    "- `~` (NOT): performs a bitwise NOT operation on a number. The result is the number's bitwise complement, which means that each bit is flipped (0 becomes 1, and 1 becomes 0).\n",
    "\n",
    "- `<<` (left shift): shifts the bits of a number to the left by a specified number of positions. The bits that are shifted out of the left-hand side are discarded, and zeros are shifted in on the right-hand side.\n",
    "\n",
    "- `>>` (right shift): shifts the bits of a number to the right by a specified number of positions. The bits that are shifted out of the right-hand side are discarded, and the sign bit (the leftmost bit) is shifted in on the left-hand side."
   ]
  },
  {
   "cell_type": "code",
   "execution_count": null,
   "metadata": {},
   "outputs": [],
   "source": [
    "a = 0b1010  # binary 10\n",
    "b = 0b1100  # binary 12\n",
    "\n",
    "print(f\"{a & b = }\")  # binary 1000 (8 in decimal)\n",
    "print(f\"{a | b = }\")  # binary 1110 (14 in decimal)\n",
    "print(f\"{a ^ b = }\")  # binary 0110 (6 in decimal)\n",
    "print(f\"{~a = }\")     # binary -1011 (-11 in decimal)\n",
    "print(f\"{b << 2 = }\") # binary 110000 (48 in decimal)\n",
    "print(f\"{b >> 2 = }\") # binary 0011 (3 in decimal)"
   ]
  },
  {
   "attachments": {},
   "cell_type": "markdown",
   "metadata": {},
   "source": [
    "### 4.9) Walrus operator\n",
    "\n",
    "The walrus operator (:=) is a new operator introduced in Python 3.8 that allows you to assign values to variables as part of a larger expression. It is also known as the \"assignment expression\"."
   ]
  },
  {
   "cell_type": "code",
   "execution_count": null,
   "metadata": {},
   "outputs": [],
   "source": [
    "# variable := expression\n",
    "import random\n",
    "\n",
    "while (n := random.randint(1, 10)) < 6:\n",
    "    print(n)\n",
    "\n",
    "print(\"Number greater than 5 is:\", n)"
   ]
  },
  {
   "attachments": {},
   "cell_type": "markdown",
   "metadata": {},
   "source": [
    "## 5) Conditionals\n",
    "\n",
    "There are three main conditional statements: `if`, `elif`, and `else`. These statements allow us to execute different blocks of code depending on whether a certain condition is true or false."
   ]
  },
  {
   "cell_type": "code",
   "execution_count": 107,
   "metadata": {},
   "outputs": [
    {
     "name": "stdout",
     "output_type": "stream",
     "text": [
      "10 is positive\n"
     ]
    }
   ],
   "source": [
    "number = 10\n",
    "\n",
    "if number > 0:\n",
    "    print(f\"{number} is positive\")\n",
    "elif number < 0:\n",
    "    print(f\"{number} is negative\")\n",
    "else:\n",
    "    print(f\"{number} is not positive or negative\")"
   ]
  },
  {
   "attachments": {},
   "cell_type": "markdown",
   "metadata": {},
   "source": [
    "If your conditional has just 1 line result you can use a single line"
   ]
  },
  {
   "cell_type": "code",
   "execution_count": 111,
   "metadata": {},
   "outputs": [
    {
     "name": "stdout",
     "output_type": "stream",
     "text": [
      "-35 is negative\n"
     ]
    }
   ],
   "source": [
    "number = -35\n",
    "\n",
    "if number > 0: print(f\"{number} is positive\")\n",
    "elif number < 0: print(f\"{number} is negative\")\n",
    "else: print(f\"{number} is not positive or negative\")"
   ]
  },
  {
   "attachments": {},
   "cell_type": "markdown",
   "metadata": {},
   "source": [
    "## 6) Loops\n",
    "\n",
    "### 6.1) While Loop\n",
    "\n",
    "The while loop in Python is used to execute a block of statements repeatedly as long as the specified condition is true. "
   ]
  },
  {
   "cell_type": "code",
   "execution_count": null,
   "metadata": {},
   "outputs": [],
   "source": [
    "i = 1\n",
    "while i <= 5:\n",
    "    print(i)\n",
    "    i += 1"
   ]
  },
  {
   "attachments": {},
   "cell_type": "markdown",
   "metadata": {},
   "source": [
    "### 6.2) For loop\n",
    "\n",
    "The for loop in Python is used to iterate over a sequence (list, tuple, string) or other iterable objects. \n",
    "\n",
    "`for in iterable:`"
   ]
  },
  {
   "cell_type": "code",
   "execution_count": 1,
   "metadata": {},
   "outputs": [
    {
     "name": "stdout",
     "output_type": "stream",
     "text": [
      "2\n",
      "4\n",
      "6\n"
     ]
    }
   ],
   "source": [
    "for i in [2, 4, 6]:\n",
    "    print(i)"
   ]
  }
 ],
 "metadata": {
  "kernelspec": {
   "display_name": "Python 3",
   "language": "python",
   "name": "python3"
  },
  "language_info": {
   "codemirror_mode": {
    "name": "ipython",
    "version": 3
   },
   "file_extension": ".py",
   "mimetype": "text/x-python",
   "name": "python",
   "nbconvert_exporter": "python",
   "pygments_lexer": "ipython3",
   "version": "3.11.1"
  },
  "orig_nbformat": 4
 },
 "nbformat": 4,
 "nbformat_minor": 2
}
