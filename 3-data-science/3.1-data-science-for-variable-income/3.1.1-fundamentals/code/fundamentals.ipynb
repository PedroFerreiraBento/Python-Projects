{
 "cells": [
  {
   "attachments": {},
   "cell_type": "markdown",
   "metadata": {},
   "source": [
    "# Fundamentals"
   ]
  },
  {
   "attachments": {},
   "cell_type": "markdown",
   "metadata": {},
   "source": [
    "## 1) Planning\n",
    "\n",
    "Practice the following concepts covered in the Module:\n",
    "\n",
    "- Work with a brazillian variable income database (Stocks);\n",
    "\n",
    "- Work with indicators of fundamental analysis of stocks (Price, Liquidity, P/E, DY);\n",
    "\n",
    "- Work with two tools used in data science (Excel and Python);\n",
    "\n",
    "- Perform exploratory analysis of variable income data;\n",
    "\n",
    "- Exercise with some basic Python commands for data analysis and graphing."
   ]
  },
  {
   "attachments": {},
   "cell_type": "markdown",
   "metadata": {},
   "source": [
    "## 2) Collecting the data"
   ]
  },
  {
   "cell_type": "code",
   "execution_count": null,
   "metadata": {},
   "outputs": [],
   "source": [
    "#@title 2.1) Read the downloaded CSV file\n",
    "import pandas as pd\n",
    "\n",
    "stocks = pd.read_csv(\"../data/raw/stocks.csv\", sep=\";\")"
   ]
  },
  {
   "attachments": {},
   "cell_type": "markdown",
   "metadata": {},
   "source": [
    "## 3) Exploratory analysis"
   ]
  },
  {
   "cell_type": "code",
   "execution_count": null,
   "metadata": {},
   "outputs": [],
   "source": [
    "#@title 3.1) First values\n",
    "stocks.head()"
   ]
  },
  {
   "cell_type": "code",
   "execution_count": null,
   "metadata": {},
   "outputs": [],
   "source": [
    "#@title 3.2) Last values\n",
    "stocks.tail()"
   ]
  },
  {
   "cell_type": "code",
   "execution_count": null,
   "metadata": {},
   "outputs": [],
   "source": [
    "#@title 3.3) Rows and columns count\n",
    "stocks.shape"
   ]
  },
  {
   "cell_type": "code",
   "execution_count": null,
   "metadata": {},
   "outputs": [],
   "source": [
    "#@title 3.4) Rows and columns count\n",
    "stocks.columns"
   ]
  },
  {
   "cell_type": "code",
   "execution_count": null,
   "metadata": {},
   "outputs": [],
   "source": [
    "#@title 3.5.1) Columns types\n",
    "stocks.dtypes"
   ]
  },
  {
   "cell_type": "code",
   "execution_count": null,
   "metadata": {},
   "outputs": [],
   "source": [
    "#@title 3.5.2) Convert columns to appropriate types\n",
    "stocks.replace(\"\\.\", \"\", regex=True, inplace=True)\n",
    "stocks.replace(\",\", \".\", regex=True, inplace=True)\n",
    "\n",
    "stocks = stocks.apply(pd.to_numeric, errors=\"ignore\")\n",
    "stocks = stocks.convert_dtypes()\n",
    "\n",
    "stocks.dtypes"
   ]
  },
  {
   "cell_type": "code",
   "execution_count": null,
   "metadata": {},
   "outputs": [],
   "source": [
    "#@title 3.6) Statistical summary for numerical columns\n",
    "stocks.describe()"
   ]
  },
  {
   "cell_type": "code",
   "execution_count": null,
   "metadata": {},
   "outputs": [],
   "source": [
    "#@title 3.7) Number of missing values in each column\n",
    "stocks.isnull().sum()"
   ]
  },
  {
   "cell_type": "code",
   "execution_count": null,
   "metadata": {},
   "outputs": [],
   "source": [
    "#@title 3.8) Number of unique values\n",
    "stocks.nunique()"
   ]
  },
  {
   "cell_type": "code",
   "execution_count": null,
   "metadata": {},
   "outputs": [],
   "source": [
    "#@title 3.9) How much memory each column uses in bytes\n",
    "stocks.memory_usage()"
   ]
  },
  {
   "cell_type": "code",
   "execution_count": null,
   "metadata": {},
   "outputs": [],
   "source": [
    "#@title 3.10) Stocks with higher prices\n",
    "stocks.nlargest(5, \"PRECO\")"
   ]
  },
  {
   "attachments": {},
   "cell_type": "markdown",
   "metadata": {},
   "source": [
    "## 4) Cleaning the data"
   ]
  },
  {
   "cell_type": "code",
   "execution_count": null,
   "metadata": {},
   "outputs": [],
   "source": [
    "#@title 4.1) Fill empty spaces with zero\n",
    "stocks.fillna(0, inplace=True)"
   ]
  },
  {
   "cell_type": "code",
   "execution_count": null,
   "metadata": {},
   "outputs": [],
   "source": [
    "#@title 4.2) Drop rows outside price standard (above 1000 or equals to 0)\n",
    "stocks.drop(stocks[(stocks.PRECO == 0) | (stocks.PRECO > 1000)].index, inplace=True)\n"
   ]
  },
  {
   "attachments": {},
   "cell_type": "markdown",
   "metadata": {},
   "source": [
    "## 5) Analysing the data"
   ]
  },
  {
   "cell_type": "code",
   "execution_count": null,
   "metadata": {},
   "outputs": [],
   "source": [
    "#@title 5.1) Asset with the highest price\n",
    "print(\"Highest price: \")\n",
    "print(stocks.nlargest(1, \"PRECO\")[[\"TICKER\", \"PRECO\"]])"
   ]
  },
  {
   "cell_type": "code",
   "execution_count": null,
   "metadata": {},
   "outputs": [],
   "source": [
    "#@title 5.2) 10 highest and 10 Lowest price\n",
    "print(\"10 Highest prices: \")\n",
    "print(stocks.nlargest(10, \"PRECO\")[[\"TICKER\", \"PRECO\"]])\n",
    "\n",
    "print(\"\\n\\n10 Lowest prices: \")\n",
    "print(stocks.nsmallest(10, \"PRECO\")[[\"TICKER\", \"PRECO\"]])"
   ]
  },
  {
   "cell_type": "code",
   "execution_count": null,
   "metadata": {},
   "outputs": [],
   "source": [
    "#@title 5.3) Sum and average of the Average Daily Liquidity\n",
    "print(f\"Liquidity sum: {round(stocks[' LIQUIDEZ MEDIA DIARIA'].sum() / 1000000, 2)}M\")\n",
    "print(f\"Liquidity average: {round(stocks[' LIQUIDEZ MEDIA DIARIA'].mean() / 1000000, 2)}M\")"
   ]
  },
  {
   "cell_type": "code",
   "execution_count": null,
   "metadata": {},
   "outputs": [],
   "source": [
    "#@title 5.4) Names of assets with P/E greater than 0;\n",
    "stocks[stocks[\"P/L\"] > 0][[\"TICKER\", \"P/L\"]]"
   ]
  },
  {
   "cell_type": "code",
   "execution_count": null,
   "metadata": {},
   "outputs": [],
   "source": [
    "#@title 5.4) Assets with DY above 0;\n",
    "stocks[stocks[\"DY\"] > 0][[\"TICKER\", \"DY\"]].sort_values(by=[\"DY\"], ascending=False)"
   ]
  },
  {
   "cell_type": "code",
   "execution_count": null,
   "metadata": {},
   "outputs": [],
   "source": [
    "#@title 5.5) List the PN preferred shares (code 4)\n",
    "stocks[stocks[\"TICKER\"].str.endswith(\"4\")]"
   ]
  },
  {
   "attachments": {},
   "cell_type": "markdown",
   "metadata": {},
   "source": [
    "## 6) Sharing results"
   ]
  },
  {
   "cell_type": "code",
   "execution_count": null,
   "metadata": {},
   "outputs": [],
   "source": [
    "#title 6.1) Plot 10 stocks with the highest Average Daily Liquidity\n",
    "import matplotlib.pyplot as plt\n",
    "\n",
    "highest_averages = stocks.nlargest(10, \" LIQUIDEZ MEDIA DIARIA\")\n",
    "\n",
    "# Create a column chart\n",
    "plt.bar(\n",
    "    highest_averages[\"TICKER\"], \n",
    "    highest_averages[\" LIQUIDEZ MEDIA DIARIA\"] / 1000000\n",
    ")\n",
    "\n",
    "# Set chart title and labels\n",
    "plt.title(\"10 Stocks with the highest Average Daily Liquidity\")\n",
    "plt.ylabel(\"Average daily liquity (Millions R$)\")\n",
    "plt.xlabel(\"Stocks\")\n",
    "\n",
    "# Plot chart\n",
    "plt.plot()"
   ]
  }
 ],
 "metadata": {
  "kernelspec": {
   "display_name": "Python 3",
   "language": "python",
   "name": "python3"
  },
  "language_info": {
   "codemirror_mode": {
    "name": "ipython",
    "version": 3
   },
   "file_extension": ".py",
   "mimetype": "text/x-python",
   "name": "python",
   "nbconvert_exporter": "python",
   "pygments_lexer": "ipython3",
   "version": "3.11.1"
  },
  "orig_nbformat": 4,
  "vscode": {
   "interpreter": {
    "hash": "12742b8e28e6b705e644f47a13c859e9a7ee87ce7b50d5a7101f5a848e61bd6d"
   }
  }
 },
 "nbformat": 4,
 "nbformat_minor": 2
}
